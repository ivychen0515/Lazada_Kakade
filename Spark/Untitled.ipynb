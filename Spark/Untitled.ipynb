{
 "cells": [
  {
   "cell_type": "code",
   "execution_count": 1,
   "metadata": {},
   "outputs": [],
   "source": [
    "import findspark\n",
    "findspark.init('/home/kakade/spark')\n",
    "import pyspark\n",
    "from pyspark import SparkContext, SparkConf\n",
    "from pyspark.sql import SparkSession,SQLContext\n",
    "spark = SparkSession.builder.appName(\"kakade\").getOrCreate()"
   ]
  },
  {
   "cell_type": "code",
   "execution_count": 11,
   "metadata": {},
   "outputs": [],
   "source": [
    "from pyspark.sql.types import StructField,StringType,FloatType,StructType\n",
    "#Add header to data feature\n",
    "feature_schema = [StructField(\"country\", StringType(), True), StructField(\"sku_id\", StringType(), True), \\\n",
    "                  StructField(\"title\",StringType(), True), StructField(\"category_1\",StringType(), True), \\\n",
    "                  StructField(\"category_2\",StringType(), True), StructField(\"category_3\",StringType(), True), \\\n",
    "                  StructField(\"description\",StringType(), True), StructField(\"org_price\", FloatType(), True), \\\n",
    "                  StructField(\"product_type\",StringType(), True)]\n",
    "# country sku_id title category_1 category_2 category_3 short_description price product_type \n",
    "feature_struc = StructType(fields=feature_schema)"
   ]
  },
  {
   "cell_type": "code",
   "execution_count": 12,
   "metadata": {},
   "outputs": [],
   "source": [
    "train_feature = spark.read.csv(\"../Data/training/data_train.csv\",schema=feature_struc)"
   ]
  },
  {
   "cell_type": "code",
   "execution_count": null,
   "metadata": {},
   "outputs": [],
   "source": [
    "#most other category only contain <=5 products\n",
    "#filter products out of the main categories\n",
    "#train_feature.groupBy(\"category_1\").count().orderBy(\"count\",ascending=False).show(truncate=False)\n",
    "main_category=train_feature.groupBy(\"category_1\").count().filter(\"count>5\")\n",
    "train_feature = train_feature.join(main_category, col(\"train_feature.category_1\") == col(\"main_category.category_1\"), 'inner')"
   ]
  },
  {
   "cell_type": "code",
   "execution_count": 37,
   "metadata": {},
   "outputs": [],
   "source": [
    "from bs4 import BeautifulSoup\n",
    "from pyspark.sql.functions import udf\n",
    "from pyspark.ml.feature import Tokenizer, RegexTokenizer,StopWordsRemover,CountVectorizer"
   ]
  },
  {
   "cell_type": "code",
   "execution_count": 34,
   "metadata": {},
   "outputs": [
    {
     "name": "stdout",
     "output_type": "stream",
     "text": [
      "+----------------------------------------------------------------------------------------------------------------------------------------------------------------------------------------------------------------------------------------------------------------------------------------------------------------------------------------------------------------------------------------------------------------------------------------------------------------------------------------------------------------------------------------+\n",
      "|html_extract                                                                                                                                                                                                                                                                                                                                                                                                                                                                                                                            |\n",
      "+----------------------------------------------------------------------------------------------------------------------------------------------------------------------------------------------------------------------------------------------------------------------------------------------------------------------------------------------------------------------------------------------------------------------------------------------------------------------------------------------------------------------------------------+\n",
      "|Material : Non sheer shimmer chiffonSizes : 52 x 52 inches OR 56 x 56 inchesCut with curved ends                                                                                                                                                                                                                                                                                                                                                                                                                                        |\n",
      "|Formulated with oil-free hydrating botanicals/ Remarkably improves skin texture of abused hands/Restores soft, smooth & refined hands                                                                                                                                                                                                                                                                                                                                                                                                   |\n",
      "| 150cm mini microphone compatible for iPhone, various smartphones, and also for iPad/ Apple computer/ Macbook. Dual-headed design, allows for two people using simultaneously. Features high sensitivity & omni-directional sounds output, perfect for audio and video recording. 3.5mm standard connector jack. Convenient clip-on design, can clip it on your collar. 3.5mm standard connector jack. Convenient clip-on design, can clip it on your collar.                                                                           |\n",
      "| ANMYNA Complaint Silky Set (Shampoo 520ml + Conditioner 250ml) Deep nourish Repair damaged hair Protect the scalp and prevent hair loss                                                                                                                                                                                                                                                                                                                                                                                                |\n",
      "| 100% Authentic Rrefresh and brighten skin Anti-wrinkle and deep cleansing effects                                                                                                                                                                                                                                                                                                                                                                                                                                                      |\n",
      "|\"   Genuine Windows® 8.1 13.3in 16:9 HD TOUCH Intel® Core™ I5-5200U 4GB RAM - 500GB ROM NVIDIA® GeForce® GT 920M 2 -in-1 card reader ( SD/ SDHC) VGA Web Camera ASUS SonicMaster Lite Technology    \"                                                                                                                                                                                                                                                                                                                                   |\n",
      "| 1. Color Temperature: 5400K 2. Ra: >90 3. Voltage: 220V/110V 4. Power: 40W×1=40W 5. Diameter: 235/315cm (inner/outer) 6. Weight: 640g                                                                                                                                                                                                                                                                                                                                                                                                  |\n",
      "| Reviving like a new born baby. Age:Apply at any age NET content: App 38g/pair Guarantee period: 3 years                                                                                                                                                                                                                                                                                                                                                                                                                                |\n",
      "|\"                                                                                                                                                                                                                                                                                                                                                                                                                                                                                                                                       |\n",
      "| Genuine issued McDonald's Coca Cola merchandize Limited 2010 Edition for Collection Brand New in paper packaging Color : Purple Limited Stock Left, no second chance Ideal for putting drink and beverage, or even the Coke Even more ideal for keeping in your Coca Cola museum Free Shipping                                                                                                                                                                                                                                         |\n",
      "| Stainless Steel Filter Stainless Tea Filter Tea Ball Filter                                                                                                                                                                                                                                                                                                                                                                                                                                                                            |\n",
      "| Material: Genuine Prehnite Crystal Beads Size: 7mm, 26 beads Length: 16.5cm, Stretchy                                                                                                                                                                                                                                                                                                                                                                                                                                                  |\n",
      "| Lead and Nickle Free Good Quality and Free Shipping Enough Stock                                                                                                                                                                                                                                                                                                                                                                                                                                                                       |\n",
      "| Accurately track all-day stats like steps taken, distance traveled, calories burned, stairs climbed, and active minutes See daily stats and time of day with a bright OLED display Monitor how long and how well you sleep, and wake with a silent vibrating alarm Get call notifications right on your wrist Access real-time run stats like time, distance, and pace to stay on track Sync stats wirelessly and automatically to your computer and over 100 leading smartphones                                                      |\n",
      "| Apply morning and evening  Eyelash treatment  Excellent occular tolerability                                                                                                                                                                                                                                                                                                                                                                                                                                                           |\n",
      "|\" 100% Brand New and High Quality Fashion Men Business Shoes PU Leather Lace Up Shoes Type: Formal Shoes Gender: Men Material: PU + Rubber Sole Color: Brown                                                                                                                                                                                                                                                                                                                                                                            |\n",
      "|  Gender Men's Movement Mechanical Movement type Automatic Self Wind Type Skeleton Watch Display Analog Case Material Alloy Dial Color Black Case Diameter 40mm Case Diameter Approx 41mm Case Thickness Approx 13mm Band Color Black Band Material Stailess Steel Band Length Approx (CM) 24 Band Width Approx (CM) 2 Net Weight(kg) 0.04                                                                                                                                                                                              |\n",
      "| Print on all sides, glossy finish DIY Customize with your images, designs, and text  Slim profile and lightweight;Impact resistant, durable hard plastic;Access to all ports, controls & sensors  Lay-flat bezel to protect your screen from directly contacting surfaces and keep you in a nice mood every day. It's the best valentine's day christmas birthday Hallowmas little gift for your girls boys women men friends or family,new fashionable cute lovely funny cool but useful and cheap. more excellent choices in Jianse  |\n",
      "| Item Type:Phone Holder Size:85 x 12 x 8cm. Material: Alloy + PVC. Compatible Phone Model: 3-7 inches. Color:Light Blue.                                                                                                                                                                                                                                                                                                                                                                                                                |\n",
      "| 100% Genuine and Authentic products Free and Fast Shipping Buy with confidence!                                                                                                                                                                                                                                                                                                                                                                                                                                                        |\n",
      "+----------------------------------------------------------------------------------------------------------------------------------------------------------------------------------------------------------------------------------------------------------------------------------------------------------------------------------------------------------------------------------------------------------------------------------------------------------------------------------------------------------------------------------------+\n",
      "only showing top 20 rows\n",
      "\n"
     ]
    }
   ],
   "source": [
    "def html_extract_func(col):\n",
    "    soup=BeautifulSoup(col)\n",
    "    return soup.get_text()\n",
    "    return (1-col1/col2)**2\n",
    "html_extract = udf(html_extract_func, StringType())\n",
    "train_feature = train_feature.withColumn(\"html_extract\",html_extract(\"description\"))\n",
    "train_feature.select(\"html_extract\").show(truncate=False)"
   ]
  },
  {
   "cell_type": "code",
   "execution_count": 43,
   "metadata": {},
   "outputs": [
    {
     "name": "stdout",
     "output_type": "stream",
     "text": [
      "+-------------------------------------------------------------------------------------------------------------------------------------------------------------------------------------------------------------------------------------------------------------------------------------------------------------------------------------------------------------------------------------------------------------------------------------------------------------------------------------+\n",
      "|stop_words_filtered                                                                                                                                                                                                                                                                                                                                                                                                                                                                  |\n",
      "+-------------------------------------------------------------------------------------------------------------------------------------------------------------------------------------------------------------------------------------------------------------------------------------------------------------------------------------------------------------------------------------------------------------------------------------------------------------------------------------+\n",
      "|[material, non, sheer, shimmer, chiffonsizes, 52, x, 52, inches, 56, x, 56, inchescut, curved, ends]                                                                                                                                                                                                                                                                                                                                                                                 |\n",
      "|[formulated, oil, free, hydrating, botanicals, remarkably, improves, skin, texture, abused, hands, restores, soft, smooth, refined, hands]                                                                                                                                                                                                                                                                                                                                           |\n",
      "|[150cm, mini, microphone, compatible, iphone, various, smartphones, also, ipad, apple, computer, macbook, dual, headed, design, allows, two, people, using, simultaneously, features, high, sensitivity, omni, directional, sounds, output, perfect, audio, video, recording, 3, 5mm, standard, connector, jack, convenient, clip, design, clip, collar, 3, 5mm, standard, connector, jack, convenient, clip, design, clip, collar]                                                  |\n",
      "|[anmyna, complaint, silky, set, shampoo, 520ml, conditioner, 250ml, deep, nourish, repair, damaged, hair, protect, scalp, prevent, hair, loss]                                                                                                                                                                                                                                                                                                                                       |\n",
      "|[100, authentic, rrefresh, brighten, skin, anti, wrinkle, deep, cleansing, effects]                                                                                                                                                                                                                                                                                                                                                                                                  |\n",
      "|[genuine, windows, 8, 1, 13, 3in, 16, 9, hd, touch, intel, core, i5, 5200u, 4gb, ram, 500gb, rom, nvidia, geforce, gt, 920m, 2, 1, card, reader, sd, sdhc, vga, web, camera, asus, sonicmaster, lite, technology]                                                                                                                                                                                                                                                                    |\n",
      "|[1, color, temperature, 5400k, 2, ra, 90, 3, voltage, 220v, 110v, 4, power, 40w, 1, 40w, 5, diameter, 235, 315cm, inner, outer, 6, weight, 640g]                                                                                                                                                                                                                                                                                                                                     |\n",
      "|[reviving, like, new, born, baby, age, apply, age, net, content, app, 38g, pair, guarantee, period, 3, years]                                                                                                                                                                                                                                                                                                                                                                        |\n",
      "|[]                                                                                                                                                                                                                                                                                                                                                                                                                                                                                   |\n",
      "|[genuine, issued, mcdonald, coca, cola, merchandize, limited, 2010, edition, collection, brand, new, paper, packaging, color, purple, limited, stock, left, second, chance, ideal, putting, drink, beverage, even, coke, even, ideal, keeping, coca, cola, museum, free, shipping]                                                                                                                                                                                                   |\n",
      "|[stainless, steel, filter, stainless, tea, filter, tea, ball, filter]                                                                                                                                                                                                                                                                                                                                                                                                                |\n",
      "|[material, genuine, prehnite, crystal, beads, size, 7mm, 26, beads, length, 16, 5cm, stretchy]                                                                                                                                                                                                                                                                                                                                                                                       |\n",
      "|[lead, nickle, free, good, quality, free, shipping, enough, stock]                                                                                                                                                                                                                                                                                                                                                                                                                   |\n",
      "|[accurately, track, day, stats, like, steps, taken, distance, traveled, calories, burned, stairs, climbed, active, minutes, see, daily, stats, time, day, bright, oled, display, monitor, long, well, sleep, wake, silent, vibrating, alarm, get, call, notifications, right, wrist, access, real, time, run, stats, like, time, distance, pace, stay, track, sync, stats, wirelessly, automatically, computer, 100, leading, smartphones]                                           |\n",
      "|[apply, morning, evening, eyelash, treatment, excellent, occular, tolerability]                                                                                                                                                                                                                                                                                                                                                                                                      |\n",
      "|[100, brand, new, high, quality, fashion, men, business, shoes, pu, leather, lace, shoes, type, formal, shoes, gender, men, material, pu, rubber, sole, color, brown]                                                                                                                                                                                                                                                                                                                |\n",
      "|[gender, men, movement, mechanical, movement, type, automatic, self, wind, type, skeleton, watch, display, analog, case, material, alloy, dial, color, black, case, diameter, 40mm, case, diameter, approx, 41mm, case, thickness, approx, 13mm, band, color, black, band, material, stailess, steel, band, length, approx, cm, 24, band, width, approx, cm, 2, net, weight, kg, 0, 04]                                                                                              |\n",
      "|[print, sides, glossy, finish, diy, customize, images, designs, text, slim, profile, lightweight, impact, resistant, durable, hard, plastic, access, ports, controls, sensors, lay, flat, bezel, protect, screen, directly, contacting, surfaces, keep, nice, mood, every, day, best, valentine, day, christmas, birthday, hallowmas, little, gift, girls, boys, women, men, friends, family, new, fashionable, cute, lovely, funny, cool, useful, cheap, excellent, choices, jianse]|\n",
      "|[item, type, phone, holder, size, 85, x, 12, x, 8cm, material, alloy, pvc, compatible, phone, model, 3, 7, inches, color, light, blue]                                                                                                                                                                                                                                                                                                                                               |\n",
      "|[100, genuine, authentic, products, free, fast, shipping, buy, confidence]                                                                                                                                                                                                                                                                                                                                                                                                           |\n",
      "+-------------------------------------------------------------------------------------------------------------------------------------------------------------------------------------------------------------------------------------------------------------------------------------------------------------------------------------------------------------------------------------------------------------------------------------------------------------------------------------+\n",
      "only showing top 20 rows\n",
      "\n"
     ]
    }
   ],
   "source": [
    "# regexTokenizer = RegexTokenizer(inputCol=\"html_extract\", outputCol=\"description_token\", pattern=\"\\\\W\")\n",
    "# train_feature = regexTokenizer.transform(train_feature)\n",
    "# stop_words_remover = StopWordsRemover(inputCol=\"description_token\", outputCol=\"stop_words_filtered\")\n",
    "# train_feature = stop_words_remover.transform(train_feature)\n",
    "train_feature.select(\"stop_words_filtered\").show(truncate=False)"
   ]
  },
  {
   "cell_type": "code",
   "execution_count": 13,
   "metadata": {},
   "outputs": [],
   "source": [
    "##currency_exchange\n",
    "#set all price to PHP\n",
    "import pyspark.sql.functions as F\n",
    "from forex_python.converter import CurrencyRates\n",
    "cex = CurrencyRates()\n",
    "S2P=cex.get_rate(\"SGD\",\"PHP\")\n",
    "M2P=cex.get_rate(\"MYR\",\"PHP\")\n",
    "train_feature=train_feature.withColumn(\"price\", F.when(train_feature.country == \"my\", M2P*train_feature.org_price).when(train_feature.country == \"sg\", S2P*train_feature.org_price).otherwise(train_feature.org_price))\n",
    "                                    "
   ]
  },
  {
   "cell_type": "code",
   "execution_count": 15,
   "metadata": {},
   "outputs": [
    {
     "name": "stdout",
     "output_type": "stream",
     "text": [
      "+------------------+---------+\n",
      "|             price|org_price|\n",
      "+------------------+---------+\n",
      "|            597.31|     49.0|\n",
      "|           1560.32|    128.0|\n",
      "| 305.6032962799072|    25.07|\n",
      "|1438.4199999999998|    118.0|\n",
      "|1399.4120372009277|    114.8|\n",
      "|31681.809999999998|   2599.0|\n",
      "| 4741.787980957031|   388.99|\n",
      "|126.77599534988403|     10.4|\n",
      "|               0.0|      0.0|\n",
      "|            304.75|     25.0|\n",
      "|115.56119441986084|     9.48|\n",
      "| 950.8199999999999|     78.0|\n",
      "|189.55450232505797|    15.55|\n",
      "|6082.8099999999995|    499.0|\n",
      "|            1462.8|    120.0|\n",
      "|              null|     null|\n",
      "| 1031.273981399536|     84.6|\n",
      "|             365.7|     30.0|\n",
      "| 203.0853981399536|    16.66|\n",
      "|2072.2999999999997|    170.0|\n",
      "+------------------+---------+\n",
      "only showing top 20 rows\n",
      "\n"
     ]
    }
   ],
   "source": [
    "train_feature.select(\"price\",\"org_price\").show()"
   ]
  },
  {
   "cell_type": "code",
   "execution_count": null,
   "metadata": {},
   "outputs": [],
   "source": []
  }
 ],
 "metadata": {
  "kernelspec": {
   "display_name": "Python 3",
   "language": "python",
   "name": "python3"
  },
  "language_info": {
   "codemirror_mode": {
    "name": "ipython",
    "version": 3
   },
   "file_extension": ".py",
   "mimetype": "text/x-python",
   "name": "python",
   "nbconvert_exporter": "python",
   "pygments_lexer": "ipython3",
   "version": "3.5.2"
  }
 },
 "nbformat": 4,
 "nbformat_minor": 2
}
