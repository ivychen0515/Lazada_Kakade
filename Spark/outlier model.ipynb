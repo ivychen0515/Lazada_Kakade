{
 "cells": [
  {
   "cell_type": "code",
   "execution_count": 1,
   "metadata": {},
   "outputs": [],
   "source": [
    "import findspark\n",
    "findspark.init('/home/kakade/spark')\n",
    "import pyspark\n",
    "from pyspark import SparkContext, SparkConf\n",
    "from pyspark.sql import SparkSession,SQLContext\n",
    "spark = SparkSession.builder.appName(\"kakade\").getOrCreate()"
   ]
  },
  {
   "cell_type": "code",
   "execution_count": 21,
   "metadata": {},
   "outputs": [],
   "source": [
    "from pyspark.sql.types import *\n",
    "\n",
    "features_schema = [StructField(\"count_num\", IntegerType(), True), StructField(\"freq_num\", DoubleType(), True),\\\n",
    "                StructField(\"count_adj\",IntegerType(), True), StructField(\"freq_adj\",DoubleType(), True), \\\n",
    "                StructField(\"count_noun\",IntegerType(), True), StructField(\"freq_noun\",DoubleType(), True), \\\n",
    "                StructField(\"count_conj\",IntegerType(), True), StructField(\"freq_conj\", DoubleType(), True), \\\n",
    "                StructField(\"count_color\",IntegerType(), True), StructField(\"freq_color\",DoubleType(), True), \\\n",
    "                StructField(\"count_brand\",IntegerType(), True), StructField(\"freq_brand\",DoubleType(), True), \\\n",
    "                StructField(\"count_words\",IntegerType(), True), StructField(\"count_chars\",IntegerType(), True), \\\n",
    "                StructField(\"w2v_score\",DoubleType(), True), StructField(\"tf_score\",DoubleType(), True), \\\n",
    "                StructField(\"sp_score\",DoubleType(), True)]\n",
    "\n",
    "data_schema = [StructField(\"index\", IntegerType(), True), StructField(\"title\", StringType(), True),\\\n",
    "                StructField(\"new_title\",StringType(), True), StructField(\"description\",StringType(), True), \\\n",
    "                StructField(\"new_des\",StringType(), True), StructField(\"category_1\",StringType(), True), \\\n",
    "                StructField(\"concise\",IntegerType(), True), StructField(\"label\", IntegerType(), True)]\n",
    "\n",
    "# country sku_id title category_1 category_2 category_3 short_description price product_type \n",
    "features_struc = StructType(fields=features_schema)\n",
    "data_struc = StructType(fields=data_schema)\n",
    "\n"
   ]
  },
  {
   "cell_type": "code",
   "execution_count": 27,
   "metadata": {},
   "outputs": [],
   "source": [
    "from pyspark.sql.functions import *\n",
    "whole_data = spark.read.csv(\"/home/kakade/Support_files/With_catgory_index_Processed_title_des.csv\", escape='\"', schema=data_struc)\n",
    "final_features = spark.read.csv(\"/home/kakade/Support_files/final_features.csv\", schema=features_struc).withColumn(\"index\", monotonically_increasing_id() + 1)\n",
    "raw_data=spark.read.csv(\"../data/Clean_Data_Frame.csv\", escape='\"', header=True).select(\"category_1\",\"category_2\",\"category_3\").withColumn(\"index\", monotonically_increasing_id() + 1)\n"
   ]
  },
  {
   "cell_type": "code",
   "execution_count": 5,
   "metadata": {},
   "outputs": [],
   "source": [
    "used_index=whole_data.filter(\"category_1 != '''Fashion'''\").filter(\"category_1 != '''Watches Sunglasses Jewellery'''\").select(\"category_1\",\"index\",\"label\")"
   ]
  },
  {
   "cell_type": "code",
   "execution_count": 67,
   "metadata": {},
   "outputs": [],
   "source": [
    "combine_data=raw_data.join(whole_data.select(\"index\",\"new_title\",\"new_des\",\"label\"),\"index\",\"inner\")"
   ]
  },
  {
   "cell_type": "code",
   "execution_count": 68,
   "metadata": {},
   "outputs": [
    {
     "name": "stdout",
     "output_type": "stream",
     "text": [
      "+--------------------+--------------------+--------------------+--------------------+--------------------+\n",
      "|         title_words|          cat1_words|          cat2_words|          cat3_words|           des_words|\n",
      "+--------------------+--------------------+--------------------+--------------------+--------------------+\n",
      "|[adana, galleri, ...|           [fashion]|             [women]|      [muslim, wear]|[materi, non, she...|\n",
      "|[cuba, heartbreak...|    [health, beauty]|        [bath, body]|  [hand, foot, care]|[formul, with, oi...|\n",
      "|[andoer, 150cm, c...|[tv, audio, video...|             [audio]|[live, sound, stage]|[150cm, mini, mic...|\n",
      "|[anmyna, complain...|    [health, beauty]|        [hair, care]|[shampoos, condit...|[anmyna, complain...|\n",
      "|[argit, argiltubo...|    [health, beauty]|      [men, s, care]|[body, and, skin,...|[100, authent, rr...|\n",
      "|[asus, tp300lj, d...|[computers, laptops]|           [laptops]|[traditional, lap...|[genuin, windows,...|\n",
      "|[ng, 40c, ring, s...|           [cameras]|[camera, accessor...|[lighting, studio...|[1, color, temper...|\n",
      "|[buytra, exfoli, ...|    [health, beauty]|        [bath, body]|  [hand, foot, care]|[reviv, like, a, ...|\n",
      "|[cliptec, occ121,...|[computers, laptops]|           [laptops]|[traditional, lap...|[design, and, con...|\n",
      "|[mcdonald, s, cok...|      [home, living]|   [kitchen, dining]|         [tableware]|[genuin, issu, mc...|\n",
      "|[elenx, stainless...|      [home, living]|   [kitchen, dining]|          [cookware]|[stainless, steel...|\n",
      "|[7mm, natur, preh...|[watches, sunglas...|         [jewellery]|             [women]|[material, genuin...|\n",
      "|[feelontop, punk,...|[watches, sunglas...|         [jewellery]|             [women]|[lead, and, nickl...|\n",
      "|[fitbit, charg, w...|[tv, audio, video...|[wearable, techno...|[activity, trackers]|[accur, track, al...|\n",
      "|[folten, eyelash,...|    [health, beauty]|            [makeup]|              [eyes]|[appli, morn, and...|\n",
      "|[hanyu, men, pu, ...|           [fashion]|               [men]|             [shoes]|[100, brand, new,...|\n",
      "|[jingl, winner, m...|[watches, sunglas...|           [watches]|               [men]|[gender, men, s, ...|\n",
      "|[jians, crane, sk...|  [mobiles, tablets]|       [accessories]|      [phone, cases]|[print, on, all, ...|\n",
      "|[joyliveci, unive...|  [mobiles, tablets]|       [accessories]|  [car, accessories]|[item, type, phon...|\n",
      "|[joop, le, bain, ...|    [health, beauty]|        [fragrances]|[women, eau, de, ...|[100, genuin, and...|\n",
      "+--------------------+--------------------+--------------------+--------------------+--------------------+\n",
      "only showing top 20 rows\n",
      "\n"
     ]
    }
   ],
   "source": [
    "from pyspark.ml.feature import Tokenizer, RegexTokenizer,StopWordsRemover,CountVectorizer,VectorAssembler\n",
    "tokenizer_tit = RegexTokenizer(inputCol=\"new_title\", outputCol=\"title_words\", pattern=\"\\\\W\")\n",
    "tokenizer_cat1 = RegexTokenizer(inputCol=\"category_1\", outputCol=\"cat1_words\", pattern=\"\\\\W\")\n",
    "tokenizer_cat2 = RegexTokenizer(inputCol=\"category_2\", outputCol=\"cat2_words\", pattern=\"\\\\W\")\n",
    "tokenizer_cat3 = RegexTokenizer(inputCol=\"category_3\", outputCol=\"cat3_words\", pattern=\"\\\\W\")\n",
    "tokenizer_des = RegexTokenizer(inputCol=\"new_des\", outputCol=\"des_words\", pattern=\"\\\\W\")\n",
    "\n",
    "combine_data = tokenizer_tit.transform(combine_data)\n",
    "combine_data = tokenizer_cat1.transform(combine_data)\n",
    "combine_data = tokenizer_cat2.transform(combine_data)\n",
    "combine_data = tokenizer_cat3.transform(combine_data)\n",
    "combine_data = tokenizer_des.transform(combine_data)\n",
    "combine_data.select(\"title_words\",\"cat1_words\",\"cat2_words\",\"cat3_words\",\"des_words\").show()"
   ]
  },
  {
   "cell_type": "code",
   "execution_count": 57,
   "metadata": {},
   "outputs": [],
   "source": [
    "# from pyspark.sql.functions import udf,regexp_replace\n",
    "# def same_word_func(col1,col2,col3,col4):\n",
    "#     total_set=set(col2).union(set(col3)).union(set(col4))\n",
    "#     return len(set(col1).intersection(total_set))\n",
    "\n",
    "# same_word = udf(same_word_func, IntegerType())\n",
    "# test = combine_data.withColumn(\"cat_same\",same_word(\"title_words\",\"cat1_words\",\"cat2_words\",\"cat3_words\"))\n",
    "\n",
    "def des_same_func(col1,col2):\n",
    "    return len(set(col1).intersection(set(col2)))\n",
    "des_same = udf(des_same_func, IntegerType())\n",
    "test = combine_data.withColumn(\"des_same\",des_same(\"title_words\",\"des_words\"))"
   ]
  },
  {
   "cell_type": "code",
   "execution_count": 71,
   "metadata": {},
   "outputs": [],
   "source": [
    "# combine_data=combine_data.select(\"index\",\"title_words\")\n",
    "# combine_data.show()\n",
    "combine_data.repartition(1).write.mode(\"overwrite\").json(\"test\")"
   ]
  },
  {
   "cell_type": "code",
   "execution_count": 74,
   "metadata": {},
   "outputs": [
    {
     "data": {
      "text/plain": [
       "18474"
      ]
     },
     "execution_count": 74,
     "metadata": {},
     "output_type": "execute_result"
    }
   ],
   "source": [
    "test.filter(\"des_same>0\").filter(\"label==1\").count()"
   ]
  },
  {
   "cell_type": "markdown",
   "metadata": {},
   "source": [
    "clarity==1 25833\n",
    "clarity==0 505\n",
    "19587"
   ]
  },
  {
   "cell_type": "code",
   "execution_count": 6,
   "metadata": {},
   "outputs": [],
   "source": [
    "from pyspark.ml.feature import VectorAssembler\n",
    "\n",
    "assembler = VectorAssembler(\n",
    "    inputCols=[\"count_num\", \"freq_num\",'count_adj','freq_adj','count_noun','freq_noun','count_conj','freq_conj',\\\n",
    "               'count_color','freq_color','count_brand','freq_brand','count_words','count_chars','w2v_score','tf_score','sp_score'],\n",
    "    outputCol=\"features\")\n",
    "vector_data = assembler.transform(other_data).select(\"index\",\"features\",\"label\")\n"
   ]
  },
  {
   "cell_type": "code",
   "execution_count": 25,
   "metadata": {},
   "outputs": [],
   "source": [
    "assembler_1 = VectorAssembler(\n",
    "    inputCols=[\"freq_num\",'freq_adj','freq_noun', 'freq_conj','freq_color','freq_brand',\\\n",
    "               'count_words','count_chars','w2v_score','tf_score','sp_score'],\n",
    "    outputCol=\"features\")\n",
    "vector_data = assembler_1.transform(other_data).select(\"index\",\"features\",\"label\")"
   ]
  },
  {
   "cell_type": "code",
   "execution_count": 19,
   "metadata": {},
   "outputs": [
    {
     "name": "stdout",
     "output_type": "stream",
     "text": [
      "+-----------------------------------------------------------------------------------------------------------------------------------------------------------------------------------------------------------+-----+\n",
      "|pcaFeatures                                                                                                                                                                                                |label|\n",
      "+-----------------------------------------------------------------------------------------------------------------------------------------------------------------------------------------------------------+-----+\n",
      "|[-55.11052481527143,2.1133371440652633,-1.489093776250173,0.6365763920451244,0.20582165889843246,0.15099281169192152,-0.01846540042068144,-0.11997140090553583,0.11107477348145467,-0.7673217914368877]    |1    |\n",
      "|[-43.50550147481198,-1.285913484380312,-0.599789202383693,0.5560292583918586,0.1233575467353137,0.16844326957013328,0.08210374077258595,-0.138520201331843,0.0763399087005806,-0.8657520683457978]         |1    |\n",
      "|[-120.98358904079558,0.7229836644714214,1.8451484420277398,2.8186739595748813,0.33745091381131903,0.245244859847734,0.27627056498681457,-0.4452177139109118,0.22076309969515978,-0.8490276882573906]       |1    |\n",
      "|[-129.5830807037562,16.60461820036578,3.715670813385322,2.1373915494752507,-0.4465857456835671,-0.2194853248487318,0.06148334978937072,-0.7896083838331855,-0.11660493009479239,-0.7619505075033552]       |1    |\n",
      "|[-45.45065808372859,-0.6089005326126439,-0.700410894941435,-0.6985417360124828,1.0486437288124033,-0.8642103204235544,-0.4568433052040411,-0.1933119223057874,0.17806194653719276,-0.9356232691564522]     |1    |\n",
      "|[-85.26305500617785,-3.848805151083606,-0.7703233253154727,0.2384202144120903,0.03550473529157763,0.9695040852605789,0.06290154609863775,-0.31882355470507245,0.1715412442672692,-0.9667632577269248]      |1    |\n",
      "|[-67.11831907354393,-1.9453219967216622,1.66982319835483,2.4140160008153018,0.6509863894547886,0.5905069305954247,0.07501706629198908,-0.33975365758272963,0.02165820557550635,-0.8202359270053767]        |1    |\n",
      "|[-34.750447508170154,0.6679298158184241,0.6073106547587183,0.7750877172944154,0.05148986510661638,0.010554214243905314,0.08533899793797302,-0.17424946326201807,0.2801617000011499,-0.8377150205899295]    |1    |\n",
      "|[-46.758493163757095,-2.1137342340614946,-0.565480701381363,1.2070029227087824,0.5307617170461227,0.5445570762398357,-0.020993070562097284,-0.29972166954119406,0.17690913092224703,-0.8171810872771843]   |1    |\n",
      "|[-51.79926187069718,-1.5994168943793925,-0.42401083071972256,0.419612959361651,-0.07799571510903354,0.005632828042138584,0.182298230867228,-0.4777043882877139,0.23083413934492708,-0.7536313074809782]    |1    |\n",
      "|[-54.46384504323068,0.639663740714775,-2.0888749757579523,0.4275314349645188,0.22967553444642883,0.23576841857893047,-0.017934505962036575,-0.14231810421009433,0.16534510565912364,-0.8539830420625029]   |1    |\n",
      "|[-83.50138185421393,3.3972712175726354,2.562833682489538,-1.9849493395647657,-0.9902605858382706,2.095197674697552,-0.2838037754673428,-0.20858121274756025,0.168380719703916,-0.9246458861937947]         |1    |\n",
      "|[-88.23910117319959,1.3584758133649049,-1.6971487924277937,-0.08431798052876326,-0.09221695417145463,0.7133290340690344,-0.033747807060127706,-0.33188415420579154,0.24885353410475153,-0.8974093657987973]|1    |\n",
      "|[-72.6740078706248,-2.2602675772154495,-2.7688358788034773,-0.15093592591739818,-0.12400281927840923,0.05329377161105407,0.18486096513114375,-0.22116113246235203,0.252830102451919,-0.8114551150757209]   |0    |\n",
      "|[-110.20426243382302,-0.5327405722938776,-1.1173752852776608,0.6323473016931557,-0.3420565502707314,-0.22213028389254216,0.38338201065038235,-0.19527288630108133,0.16896799174551375,-0.7429918498235935] |1    |\n",
      "|[-41.172581950858515,0.2264601342191267,-1.7074645420573982,0.2903724308498846,0.18525509382927782,0.19803665698412165,-0.0178161066981974,-0.17446758966431578,0.2174608129747796,-0.9306425078528097]    |1    |\n",
      "|[-55.09809576754203,-2.6645718945504178,0.36387164397601324,-0.06791560786311598,-0.42966672291200225,-0.6808971575993148,-0.5555236497659923,-0.34752924152317155,0.13617302745172094,-0.8575850870962414]|1    |\n",
      "|[-70.61336917762232,1.4518306324442232,0.42120543787254355,-0.11187289820662172,1.193772948581354,0.352011806306727,0.26429365860794424,-0.2718335526388291,0.3268757796323313,-0.8247818363693404]        |0    |\n",
      "|[-63.87067447523817,-4.862662433513961,-0.26736336961098117,-0.11150013526560322,1.2391044832331137,-0.5604112673624161,-0.36261441748131995,-0.6904889744317353,0.138011941265749,-0.8904099888919199]    |1    |\n",
      "|[-25.48474095781057,0.7554211938278593,0.3765505478420224,0.8790819874943614,0.2551261811036971,0.1840535290926081,-0.01813503715334704,-0.2220098844927596,0.16295914697073938,-0.8392022091996648]       |1    |\n",
      "+-----------------------------------------------------------------------------------------------------------------------------------------------------------------------------------------------------------+-----+\n",
      "only showing top 20 rows\n",
      "\n"
     ]
    }
   ],
   "source": [
    "from pyspark.ml.feature import PCA\n",
    "from pyspark.ml.linalg import Vectors\n",
    "\n",
    "\n",
    "pca = PCA(k=10, inputCol=\"features\", outputCol=\"pcaFeatures\")\n",
    "pca_model = pca.fit(vector_data)\n",
    "\n",
    "result = pca_model.transform(vector_data).select(\"pcaFeatures\",\"label\")\n",
    "result.show(truncate=False)"
   ]
  },
  {
   "cell_type": "code",
   "execution_count": 11,
   "metadata": {},
   "outputs": [],
   "source": [
    "vector_data=vector_data.cache()"
   ]
  },
  {
   "cell_type": "code",
   "execution_count": 25,
   "metadata": {},
   "outputs": [
    {
     "name": "stdout",
     "output_type": "stream",
     "text": [
      "LR accuracy = 0.589834 \n"
     ]
    }
   ],
   "source": [
    "from pyspark.ml.evaluation import BinaryClassificationEvaluator\n",
    "from pyspark.ml.classification import LogisticRegression,DecisionTreeClassifier\n",
    "from pyspark.ml.tuning import ParamGridBuilder, TrainValidationSplit\n",
    "\n",
    "(trainingData, testData) = result.randomSplit([0.8, 0.2])\n",
    "\n",
    "lr = LogisticRegression(maxIter=30,featuresCol=\"pcaFeatures\")\n",
    "\n",
    "# We use a ParamGridBuilder to construct a grid of parameters to search over.\n",
    "# TrainValidationSplit will try all combinations of values and determine best model using\n",
    "# the evaluator.\n",
    "paramGrid_lr = ParamGridBuilder()\\\n",
    "    .addGrid(lr.regParam, [0.1, 0.01]) \\\n",
    "    .addGrid(lr.fitIntercept, [False, True])\\\n",
    "    .build()\n",
    "\n",
    "\n",
    "# In this case the estimator is simply the linear regression.\n",
    "# A TrainValidationSplit requires an Estimator, a set of Estimator ParamMaps, and an Evaluator.\n",
    "lr_tvs = TrainValidationSplit(estimator=lr,\n",
    "                           estimatorParamMaps=paramGrid_lr,\n",
    "                           evaluator=BinaryClassificationEvaluator(),\n",
    "                           # 80% of the data will be used for training, 20% for validation.\n",
    "                           trainRatio=0.8)\n",
    "\n",
    "# Run TrainValidationSplit, and choose the best set of parameters.\n",
    "lr_model = lr_tvs.fit(trainingData)\n",
    "\n",
    "lr_prediction = lr_model.transform(testData)\n",
    "evaluator = BinaryClassificationEvaluator()\n",
    "accuracy_lr = evaluator.evaluate(lr_prediction)\n",
    "print(\"LR accuracy = %g \" % accuracy_lr)"
   ]
  },
  {
   "cell_type": "code",
   "execution_count": 26,
   "metadata": {},
   "outputs": [],
   "source": [
    "lr_prediction = lr_model.transform(trainingData)"
   ]
  },
  {
   "cell_type": "code",
   "execution_count": 28,
   "metadata": {},
   "outputs": [
    {
     "data": {
      "text/plain": [
       "0"
      ]
     },
     "execution_count": 28,
     "metadata": {},
     "output_type": "execute_result"
    }
   ],
   "source": [
    "lr_prediction.filter(\"label==0\").filter(\"prediction==0\").count()"
   ]
  },
  {
   "cell_type": "markdown",
   "metadata": {},
   "source": [
    "5183/ 109"
   ]
  },
  {
   "cell_type": "code",
   "execution_count": 10,
   "metadata": {},
   "outputs": [
    {
     "name": "stdout",
     "output_type": "stream",
     "text": [
      "LR accuracy = 0.455111 \n"
     ]
    }
   ],
   "source": [
    "from pyspark.ml import Pipeline\n",
    "from pyspark.ml.classification import GBTClassifier\n",
    "from pyspark.ml.feature import StringIndexer, VectorIndexer\n",
    "from pyspark.ml.evaluation import MulticlassClassificationEvaluator\n",
    "\n",
    "# Load and parse the data file, converting it to a DataFrame.\n",
    "data = spark.read.format(\"libsvm\").load(\"data/mllib/sample_libsvm_data.txt\")\n",
    "\n",
    "# Index labels, adding metadata to the label column.\n",
    "# Fit on whole dataset to include all labels in index.\n",
    "labelIndexer = StringIndexer(inputCol=\"label\", outputCol=\"indexedLabel\").fit(data)\n",
    "# Automatically identify categorical features, and index them.\n",
    "# Set maxCategories so features with > 4 distinct values are treated as continuous.\n",
    "featureIndexer =\n",
    "    VectorIndexer(inputCol=\"features\", outputCol=\"indexedFeatures\", maxCategories=4).fit(data)\n",
    "\n",
    "# Split the data into training and test sets (30% held out for testing)\n",
    "(trainingData, testData) = data.randomSplit([0.7, 0.3])\n",
    "\n",
    "# Train a GBT model.\n",
    "gbt = GBTClassifier(labelCol=\"indexedLabel\", featuresCol=\"indexedFeatures\", maxIter=10)\n",
    "\n",
    "# Chain indexers and GBT in a Pipeline\n",
    "pipeline = Pipeline(stages=[labelIndexer, featureIndexer, gbt])\n",
    "\n",
    "# Train model.  This also runs the indexers.\n",
    "model = pipeline.fit(trainingData)\n",
    "\n",
    "# Make predictions.\n",
    "predictions = model.transform(testData)\n",
    "\n",
    "# Select example rows to display.\n",
    "predictions.select(\"prediction\", \"indexedLabel\", \"features\").show(5)\n",
    "\n",
    "# Select (prediction, true label) and compute test error\n",
    "evaluator = MulticlassClassificationEvaluator(\n",
    "    labelCol=\"indexedLabel\", predictionCol=\"prediction\", metricName=\"accuracy\")\n",
    "accuracy = evaluator.evaluate(predictions)\n",
    "print(\"Test Error = %g\" % (1.0 - accuracy))\n",
    "\n",
    "gbtModel = model.stages[2]\n",
    "print(gbtModel)  # summary only"
   ]
  },
  {
   "cell_type": "code",
   "execution_count": 27,
   "metadata": {},
   "outputs": [
    {
     "name": "stdout",
     "output_type": "stream",
     "text": [
      "LR accuracy = 0.520147 \n"
     ]
    }
   ],
   "source": [
    "from pyspark.ml.classification import LinearSVC\n",
    "\n",
    "lsvc = LinearSVC(maxIter=10)\n",
    "\n",
    "paramGrid_lsvc = ParamGridBuilder()\\\n",
    "    .addGrid(lsvc.regParam, [0.1,0.01]).build()\n",
    "\n",
    "lsvc_tvs = TrainValidationSplit(estimator=lsvc,estimatorParamMaps=paramGrid_lsvc,evaluator=evaluator,trainRatio=0.8)    \n",
    "# Run Crossvalidation, and choose the best set of parameters.\n",
    "lsvc_model = lsvc_tvs.fit(trainingData)\n",
    "lsvc_prediction = lsvc_model.transform(testData)\n",
    "accuracy_lsvc = evaluator.evaluate(lsvc_prediction)\n",
    "print(\"LR accuracy = %g \" % accuracy_lsvc)"
   ]
  },
  {
   "cell_type": "code",
   "execution_count": 11,
   "metadata": {},
   "outputs": [],
   "source": [
    "data = spark.read.format(\"libsvm\").load(\"/home/kakade/spark/data/mllib/sample_libsvm_data.txt\")"
   ]
  },
  {
   "cell_type": "code",
   "execution_count": 13,
   "metadata": {},
   "outputs": [
    {
     "name": "stdout",
     "output_type": "stream",
     "text": [
      "+-----+--------------------------------------------------------------------------------------------------------------------------------------------------------------------------------------------------------------------------------------------------------------------------------------------------------------------------------------------------------------------------------------------------------------------------------------------------------------------------------------------------------------------------------------------------------------------------------------------------------------------------------------------------------------------------------------------------------------------------------------------------------------------------------------------------------------------------------------------------------------------------------------------------------------------------------------------------------------------------------------------------------------------------------------------------------------------------------------------------------------------------------------------------------------------------------------------------------------------------------------------------------------------------------------------------------------------------------------------------------------------------------------------------------------------------------------------------------------------------------------------------------------------------------------------------------------------------------------------------------------------------------------------------------------------------------------------------------------------------------------------------------------------------------------------------------------------------------------------------------------------------------------------------------------------------------------------------------------------------------------------------------------------------------------------------------------------------------------------------------------------------------------------------------------------------------------------------------------------------------------------------------------------------------------------------------------------------------------------------------------------------------------------------------------------------------------------------------+\n",
      "|label|features                                                                                                                                                                                                                                                                                                                                                                                                                                                                                                                                                                                                                                                                                                                                                                                                                                                                                                                                                                                                                                                                                                                                                                                                                                                                                                                                                                                                                                                                                                                                                                                                                                                                                                                                                                                                                                                                                                                                                                                                                                                                                                                                                                                                                                                                                                                                                                                                                                                |\n",
      "+-----+--------------------------------------------------------------------------------------------------------------------------------------------------------------------------------------------------------------------------------------------------------------------------------------------------------------------------------------------------------------------------------------------------------------------------------------------------------------------------------------------------------------------------------------------------------------------------------------------------------------------------------------------------------------------------------------------------------------------------------------------------------------------------------------------------------------------------------------------------------------------------------------------------------------------------------------------------------------------------------------------------------------------------------------------------------------------------------------------------------------------------------------------------------------------------------------------------------------------------------------------------------------------------------------------------------------------------------------------------------------------------------------------------------------------------------------------------------------------------------------------------------------------------------------------------------------------------------------------------------------------------------------------------------------------------------------------------------------------------------------------------------------------------------------------------------------------------------------------------------------------------------------------------------------------------------------------------------------------------------------------------------------------------------------------------------------------------------------------------------------------------------------------------------------------------------------------------------------------------------------------------------------------------------------------------------------------------------------------------------------------------------------------------------------------------------------------------------+\n",
      "|0.0  |(692,[127,128,129,130,131,154,155,156,157,158,159,181,182,183,184,185,186,187,188,189,207,208,209,210,211,212,213,214,215,216,217,235,236,237,238,239,240,241,242,243,244,245,262,263,264,265,266,267,268,269,270,271,272,273,289,290,291,292,293,294,295,296,297,300,301,302,316,317,318,319,320,321,328,329,330,343,344,345,346,347,348,349,356,357,358,371,372,373,374,384,385,386,399,400,401,412,413,414,426,427,428,429,440,441,442,454,455,456,457,466,467,468,469,470,482,483,484,493,494,495,496,497,510,511,512,520,521,522,523,538,539,540,547,548,549,550,566,567,568,569,570,571,572,573,574,575,576,577,578,594,595,596,597,598,599,600,601,602,603,604,622,623,624,625,626,627,628,629,630,651,652,653,654,655,656,657],[51.0,159.0,253.0,159.0,50.0,48.0,238.0,252.0,252.0,252.0,237.0,54.0,227.0,253.0,252.0,239.0,233.0,252.0,57.0,6.0,10.0,60.0,224.0,252.0,253.0,252.0,202.0,84.0,252.0,253.0,122.0,163.0,252.0,252.0,252.0,253.0,252.0,252.0,96.0,189.0,253.0,167.0,51.0,238.0,253.0,253.0,190.0,114.0,253.0,228.0,47.0,79.0,255.0,168.0,48.0,238.0,252.0,252.0,179.0,12.0,75.0,121.0,21.0,253.0,243.0,50.0,38.0,165.0,253.0,233.0,208.0,84.0,253.0,252.0,165.0,7.0,178.0,252.0,240.0,71.0,19.0,28.0,253.0,252.0,195.0,57.0,252.0,252.0,63.0,253.0,252.0,195.0,198.0,253.0,190.0,255.0,253.0,196.0,76.0,246.0,252.0,112.0,253.0,252.0,148.0,85.0,252.0,230.0,25.0,7.0,135.0,253.0,186.0,12.0,85.0,252.0,223.0,7.0,131.0,252.0,225.0,71.0,85.0,252.0,145.0,48.0,165.0,252.0,173.0,86.0,253.0,225.0,114.0,238.0,253.0,162.0,85.0,252.0,249.0,146.0,48.0,29.0,85.0,178.0,225.0,253.0,223.0,167.0,56.0,85.0,252.0,252.0,252.0,229.0,215.0,252.0,252.0,252.0,196.0,130.0,28.0,199.0,252.0,252.0,253.0,252.0,252.0,233.0,145.0,25.0,128.0,252.0,253.0,252.0,141.0,37.0])                                                                                                                                                                                                                                                                                                                                                                                                                                                                                                                                                                                                                                                                 |\n",
      "|1.0  |(692,[158,159,160,161,185,186,187,188,189,213,214,215,216,217,240,241,242,243,244,245,267,268,269,270,271,295,296,297,298,322,323,324,325,326,349,350,351,352,353,377,378,379,380,381,404,405,406,407,408,431,432,433,434,435,459,460,461,462,463,486,487,488,489,490,514,515,516,517,518,542,543,544,545,569,570,571,572,573,596,597,598,599,600,601,624,625,626,627,652,653,654,655,680,681,682,683],[124.0,253.0,255.0,63.0,96.0,244.0,251.0,253.0,62.0,127.0,251.0,251.0,253.0,62.0,68.0,236.0,251.0,211.0,31.0,8.0,60.0,228.0,251.0,251.0,94.0,155.0,253.0,253.0,189.0,20.0,253.0,251.0,235.0,66.0,32.0,205.0,253.0,251.0,126.0,104.0,251.0,253.0,184.0,15.0,80.0,240.0,251.0,193.0,23.0,32.0,253.0,253.0,253.0,159.0,151.0,251.0,251.0,251.0,39.0,48.0,221.0,251.0,251.0,172.0,234.0,251.0,251.0,196.0,12.0,253.0,251.0,251.0,89.0,159.0,255.0,253.0,253.0,31.0,48.0,228.0,253.0,247.0,140.0,8.0,64.0,251.0,253.0,220.0,64.0,251.0,253.0,220.0,24.0,193.0,253.0,220.0])                                                                                                                                                                                                                                                                                                                                                                                                                                                                                                                                                                                                                                                                                                                                                                                                                                                                                                                                                                                                                                                                                                                                                                                                                                                                                                                                                                                                                                                                           |\n",
      "|1.0  |(692,[124,125,126,127,151,152,153,154,155,179,180,181,182,183,208,209,210,211,235,236,237,238,239,263,264,265,266,267,268,292,293,294,295,296,321,322,323,324,349,350,351,352,377,378,379,380,405,406,407,408,433,434,435,436,461,462,463,464,489,490,491,492,493,517,518,519,520,521,545,546,547,548,549,574,575,576,577,578,602,603,604,605,606,630,631,632,633,634,658,659,660,661,662],[145.0,255.0,211.0,31.0,32.0,237.0,253.0,252.0,71.0,11.0,175.0,253.0,252.0,71.0,144.0,253.0,252.0,71.0,16.0,191.0,253.0,252.0,71.0,26.0,221.0,253.0,252.0,124.0,31.0,125.0,253.0,252.0,252.0,108.0,253.0,252.0,252.0,108.0,255.0,253.0,253.0,108.0,253.0,252.0,252.0,108.0,253.0,252.0,252.0,108.0,253.0,252.0,252.0,108.0,255.0,253.0,253.0,170.0,253.0,252.0,252.0,252.0,42.0,149.0,252.0,252.0,252.0,144.0,109.0,252.0,252.0,252.0,144.0,218.0,253.0,253.0,255.0,35.0,175.0,252.0,252.0,253.0,35.0,73.0,252.0,252.0,253.0,35.0,31.0,211.0,252.0,253.0,35.0])                                                                                                                                                                                                                                                                                                                                                                                                                                                                                                                                                                                                                                                                                                                                                                                                                                                                                                                                                                                                                                                                                                                                                                                                                                                                                                                                                                                                                                                                                              |\n",
      "|1.0  |(692,[152,153,154,180,181,182,183,208,209,210,211,236,237,238,239,264,265,266,267,292,293,294,295,320,321,322,323,349,350,351,377,378,379,405,406,407,433,434,435,461,462,463,489,490,491,492,517,518,519,520,546,547,548,574,575,576,602,603,604,630,631,632,658,659,660,686,687,688],[5.0,63.0,197.0,20.0,254.0,230.0,24.0,20.0,254.0,254.0,48.0,20.0,254.0,255.0,48.0,20.0,254.0,254.0,57.0,20.0,254.0,254.0,108.0,16.0,239.0,254.0,143.0,178.0,254.0,143.0,178.0,254.0,143.0,178.0,254.0,162.0,178.0,254.0,240.0,113.0,254.0,240.0,83.0,254.0,245.0,31.0,79.0,254.0,246.0,38.0,214.0,254.0,150.0,144.0,241.0,8.0,144.0,240.0,2.0,144.0,254.0,82.0,230.0,247.0,40.0,168.0,209.0,31.0])                                                                                                                                                                                                                                                                                                                                                                                                                                                                                                                                                                                                                                                                                                                                                                                                                                                                                                                                                                                                                                                                                                                                                                                                                                                                                                                                                                                                                                                                                                                                                                                                                                                                                                                                                               |\n",
      "|1.0  |(692,[151,152,153,154,179,180,181,182,208,209,210,236,237,238,264,265,266,267,292,293,294,295,320,321,322,323,348,349,350,351,376,377,378,379,404,405,406,407,432,433,434,435,460,461,462,463,488,489,490,491,516,517,518,519,544,545,546,547,572,573,574,575,600,601,602,603,629,630,631,657,658,659,685,686,687],[1.0,168.0,242.0,28.0,10.0,228.0,254.0,100.0,190.0,254.0,122.0,83.0,254.0,162.0,29.0,254.0,248.0,25.0,29.0,255.0,254.0,103.0,29.0,254.0,254.0,109.0,29.0,254.0,254.0,109.0,29.0,254.0,254.0,109.0,29.0,255.0,254.0,109.0,29.0,254.0,254.0,109.0,29.0,254.0,254.0,63.0,29.0,254.0,254.0,28.0,29.0,254.0,254.0,28.0,29.0,254.0,254.0,35.0,29.0,254.0,254.0,109.0,6.0,212.0,254.0,109.0,203.0,254.0,178.0,155.0,254.0,190.0,32.0,199.0,104.0])                                                                                                                                                                                                                                                                                                                                                                                                                                                                                                                                                                                                                                                                                                                                                                                                                                                                                                                                                                                                                                                                                                                                                                                                                                                                                                                                                                                                                                                                                                                                                                                                                                                                                          |\n",
      "|0.0  |(692,[129,130,131,132,156,157,158,159,160,161,162,183,184,185,186,187,188,189,190,208,209,210,211,212,213,214,215,216,217,218,235,236,237,238,239,240,241,242,243,244,245,246,262,263,264,265,266,267,268,269,270,271,272,273,274,289,290,291,292,293,294,295,296,297,298,299,300,301,302,316,317,318,319,320,322,323,324,325,327,328,329,330,343,344,345,346,347,348,350,351,352,353,355,356,357,358,371,372,373,374,378,379,384,385,386,398,399,400,412,413,414,425,426,427,428,439,440,441,442,453,454,455,456,467,468,469,470,481,482,483,484,494,495,496,497,498,509,510,511,512,521,522,523,524,525,537,538,539,540,547,548,549,550,551,552,565,566,567,568,569,570,571,572,573,574,575,576,577,578,579,594,595,596,597,598,599,600,601,602,603,604,605,623,624,625,626,627,628,629,630,631,632,653,654,655,656,657,658],[64.0,253.0,255.0,63.0,96.0,205.0,251.0,253.0,205.0,111.0,4.0,96.0,189.0,251.0,251.0,253.0,251.0,251.0,31.0,16.0,64.0,223.0,244.0,251.0,251.0,211.0,213.0,251.0,251.0,31.0,80.0,181.0,251.0,253.0,251.0,251.0,251.0,94.0,96.0,251.0,251.0,31.0,92.0,253.0,253.0,253.0,255.0,253.0,253.0,253.0,95.0,96.0,253.0,253.0,31.0,92.0,236.0,251.0,243.0,220.0,233.0,251.0,251.0,243.0,82.0,96.0,251.0,251.0,31.0,80.0,253.0,251.0,251.0,188.0,96.0,251.0,251.0,109.0,96.0,251.0,251.0,31.0,96.0,240.0,253.0,243.0,188.0,42.0,96.0,204.0,109.0,4.0,12.0,197.0,251.0,31.0,221.0,251.0,253.0,121.0,36.0,23.0,190.0,251.0,31.0,48.0,234.0,253.0,191.0,253.0,31.0,44.0,221.0,251.0,251.0,12.0,197.0,251.0,31.0,190.0,251.0,251.0,251.0,96.0,251.0,251.0,31.0,190.0,251.0,251.0,113.0,40.0,234.0,251.0,219.0,23.0,190.0,251.0,251.0,94.0,40.0,217.0,253.0,231.0,47.0,191.0,253.0,253.0,253.0,12.0,174.0,253.0,253.0,219.0,39.0,67.0,236.0,251.0,251.0,191.0,190.0,111.0,72.0,190.0,191.0,197.0,251.0,243.0,121.0,39.0,63.0,236.0,251.0,253.0,251.0,251.0,251.0,251.0,253.0,251.0,188.0,94.0,27.0,129.0,253.0,251.0,251.0,251.0,251.0,229.0,168.0,15.0,95.0,212.0,251.0,211.0,94.0,59.0])                                                                                                                                                                                                                                                                                                                                                                                                                                               |\n",
      "|1.0  |(692,[158,159,160,185,186,187,188,189,212,213,214,215,216,217,240,241,242,243,244,267,268,269,270,271,272,295,296,297,298,299,323,324,325,326,350,351,352,353,354,377,378,379,380,381,404,405,406,407,408,432,433,434,435,436,459,460,461,462,463,486,487,488,489,490,513,514,515,516,517,541,542,543,544,545,569,570,571,572,573,597,598,599,600,624,625,626,627,628,652,653,654,655,681,682,683],[121.0,254.0,136.0,13.0,230.0,253.0,248.0,99.0,4.0,118.0,253.0,253.0,225.0,42.0,61.0,253.0,253.0,253.0,74.0,32.0,206.0,253.0,253.0,186.0,9.0,211.0,253.0,253.0,239.0,69.0,254.0,253.0,253.0,133.0,142.0,255.0,253.0,186.0,8.0,149.0,229.0,254.0,207.0,21.0,54.0,229.0,253.0,254.0,105.0,152.0,254.0,254.0,213.0,26.0,112.0,251.0,253.0,253.0,26.0,29.0,212.0,253.0,250.0,149.0,36.0,214.0,253.0,253.0,137.0,75.0,253.0,253.0,253.0,59.0,93.0,253.0,253.0,189.0,17.0,224.0,253.0,253.0,84.0,43.0,235.0,253.0,126.0,1.0,99.0,248.0,253.0,119.0,225.0,235.0,49.0])                                                                                                                                                                                                                                                                                                                                                                                                                                                                                                                                                                                                                                                                                                                                                                                                                                                                                                                                                                                                                                                                                                                                                                                                                                                                                                                                                                                                                                                                                      |\n",
      "|1.0  |(692,[99,100,101,127,128,129,130,154,155,156,157,158,182,183,184,185,186,209,210,211,212,213,237,238,239,240,241,264,265,266,267,268,269,291,292,293,294,295,296,297,314,315,316,317,318,319,320,321,322,323,324,325,342,343,344,345,346,347,348,349,350,351,352,353,371,372,373,374,378,379,380,381,406,407,408,409,435,436,437,463,464,465,491,492,493,514,515,516,517,518,519,520,521,522,523,524,525,539,540,541,542,543,544,545,546,547,548,549,550,551,552,553,566,567,568,569,570,571,572,573,574,575,576,577,578,579,580,581,594,595,596,597,598,599,600,622,623,624,625],[166.0,222.0,55.0,197.0,254.0,218.0,5.0,29.0,249.0,254.0,254.0,9.0,45.0,254.0,254.0,174.0,2.0,4.0,164.0,254.0,254.0,85.0,146.0,254.0,254.0,254.0,85.0,101.0,245.0,254.0,254.0,254.0,85.0,97.0,248.0,254.0,204.0,254.0,254.0,85.0,12.0,59.0,98.0,151.0,237.0,254.0,254.0,109.0,35.0,254.0,254.0,85.0,41.0,216.0,254.0,254.0,239.0,153.0,37.0,4.0,32.0,254.0,254.0,85.0,7.0,44.0,44.0,30.0,32.0,254.0,254.0,96.0,19.0,230.0,254.0,174.0,197.0,254.0,110.0,197.0,254.0,85.0,197.0,253.0,63.0,37.0,54.0,54.0,45.0,26.0,84.0,221.0,84.0,21.0,31.0,162.0,78.0,6.0,41.0,141.0,244.0,254.0,254.0,248.0,236.0,254.0,254.0,254.0,233.0,239.0,254.0,138.0,23.0,167.0,254.0,254.0,254.0,254.0,229.0,228.0,185.0,138.0,138.0,138.0,138.0,138.0,138.0,44.0,113.0,254.0,254.0,254.0,179.0,64.0,5.0,32.0,209.0,183.0,97.0])                                                                                                                                                                                                                                                                                                                                                                                                                                                                                                                                                                                                                                                                                                                                                                                                                                                                                                                                                                                                                                                           |\n",
      "|0.0  |(692,[154,155,156,157,158,159,182,183,184,185,186,187,188,189,208,209,210,211,212,213,214,215,216,217,236,237,238,239,240,241,242,243,244,245,264,265,266,267,268,269,270,271,272,273,290,291,292,293,294,295,298,299,300,301,318,319,320,321,322,326,327,328,329,346,347,348,349,350,353,354,355,356,357,374,375,376,377,378,381,382,383,384,385,402,403,404,405,406,409,410,411,412,413,429,430,431,432,437,438,439,440,456,457,458,459,460,464,465,466,467,468,484,485,486,487,488,491,492,493,494,495,512,513,514,515,516,519,520,521,522,523,540,541,542,543,544,546,547,548,549,550,551,568,569,570,571,572,573,574,575,576,577,596,597,598,599,600,601,602,603,604,605,624,625,626,627,628,629,630,631,632,633,653,654,655,656,657,658,682,683,684,685,686],[53.0,255.0,253.0,253.0,253.0,124.0,180.0,253.0,251.0,251.0,251.0,251.0,145.0,62.0,32.0,217.0,241.0,253.0,251.0,251.0,251.0,251.0,253.0,107.0,37.0,251.0,251.0,253.0,251.0,251.0,251.0,251.0,253.0,107.0,166.0,251.0,251.0,253.0,251.0,96.0,148.0,251.0,253.0,107.0,73.0,253.0,253.0,253.0,253.0,130.0,110.0,253.0,255.0,108.0,73.0,251.0,251.0,251.0,251.0,109.0,251.0,253.0,107.0,202.0,251.0,251.0,251.0,225.0,6.0,129.0,251.0,253.0,107.0,150.0,251.0,251.0,251.0,71.0,115.0,251.0,251.0,253.0,107.0,253.0,251.0,251.0,173.0,20.0,217.0,251.0,251.0,253.0,107.0,182.0,255.0,253.0,216.0,218.0,253.0,253.0,182.0,63.0,221.0,253.0,251.0,215.0,84.0,236.0,251.0,251.0,77.0,109.0,251.0,253.0,251.0,215.0,11.0,160.0,251.0,251.0,96.0,109.0,251.0,253.0,251.0,137.0,150.0,251.0,251.0,251.0,71.0,109.0,251.0,253.0,251.0,35.0,130.0,253.0,251.0,251.0,173.0,20.0,110.0,253.0,255.0,253.0,98.0,150.0,253.0,255.0,253.0,164.0,109.0,251.0,253.0,251.0,251.0,251.0,251.0,253.0,251.0,35.0,93.0,241.0,253.0,251.0,251.0,251.0,251.0,216.0,112.0,5.0,103.0,253.0,251.0,251.0,251.0,251.0,124.0,251.0,225.0,71.0,71.0])                                                                                                                                                                                                                                                                                                                                                                                                                                                                                                                                                                   |\n",
      "|0.0  |(692,[127,128,129,130,131,155,156,157,158,159,181,182,183,184,185,186,187,209,210,211,212,213,214,215,216,237,238,239,240,241,242,243,244,245,263,264,265,266,267,268,269,270,271,272,273,291,292,293,294,295,296,297,298,299,300,301,302,317,318,319,320,321,322,323,324,325,326,327,328,329,330,344,345,346,347,348,349,353,354,355,356,357,358,372,373,374,375,376,377,381,382,383,384,385,386,399,400,401,402,403,404,409,410,411,412,413,414,427,428,429,430,431,437,438,439,440,441,455,456,457,458,459,460,465,466,467,468,483,484,485,486,487,488,491,492,493,494,495,496,511,512,513,514,515,519,520,521,522,523,539,540,541,542,543,544,545,546,547,548,549,550,567,568,569,570,571,572,573,574,575,576,577,578,595,596,597,598,599,600,601,602,603,604,605,623,624,625,626,627,628,629,630,631,652,653,654,655,656,657,658],[73.0,253.0,227.0,73.0,21.0,73.0,251.0,251.0,251.0,174.0,16.0,166.0,228.0,251.0,251.0,251.0,122.0,62.0,220.0,253.0,251.0,251.0,251.0,251.0,79.0,79.0,231.0,253.0,251.0,251.0,251.0,251.0,232.0,77.0,145.0,253.0,253.0,253.0,255.0,253.0,253.0,253.0,253.0,255.0,108.0,144.0,251.0,251.0,251.0,253.0,168.0,107.0,169.0,251.0,253.0,189.0,20.0,27.0,89.0,236.0,251.0,235.0,215.0,164.0,15.0,6.0,129.0,251.0,253.0,251.0,35.0,47.0,211.0,253.0,251.0,251.0,142.0,37.0,251.0,251.0,253.0,251.0,35.0,109.0,251.0,253.0,251.0,251.0,142.0,11.0,148.0,251.0,253.0,251.0,164.0,11.0,150.0,253.0,255.0,211.0,25.0,11.0,150.0,253.0,255.0,211.0,25.0,140.0,251.0,251.0,253.0,107.0,37.0,251.0,251.0,211.0,46.0,190.0,251.0,251.0,253.0,128.0,5.0,37.0,251.0,251.0,51.0,115.0,251.0,251.0,253.0,188.0,20.0,32.0,109.0,129.0,251.0,173.0,103.0,217.0,251.0,251.0,201.0,30.0,73.0,251.0,251.0,251.0,71.0,166.0,253.0,253.0,255.0,149.0,73.0,150.0,253.0,255.0,253.0,253.0,143.0,140.0,251.0,251.0,253.0,251.0,251.0,251.0,251.0,253.0,251.0,230.0,61.0,190.0,251.0,251.0,253.0,251.0,251.0,251.0,251.0,242.0,215.0,55.0,21.0,189.0,251.0,253.0,251.0,251.0,251.0,173.0,103.0,31.0,200.0,253.0,251.0,96.0,71.0,20.0])                                                                                                                                                                                                                                                                                                                                                                                                          |\n",
      "|1.0  |(692,[154,155,156,181,182,183,184,185,209,210,211,212,213,237,238,239,240,241,265,266,267,268,293,294,295,296,321,322,323,324,349,350,351,352,377,378,379,380,404,405,406,407,408,432,433,434,435,460,461,462,463,488,489,490,491,516,517,518,519,544,545,546,547,572,573,574,575,600,601,602,603,628,629,630,631,656,657,658,659,684,685,686],[178.0,255.0,105.0,6.0,188.0,253.0,216.0,14.0,14.0,202.0,253.0,253.0,23.0,12.0,199.0,253.0,128.0,6.0,42.0,253.0,253.0,158.0,42.0,253.0,253.0,158.0,155.0,253.0,253.0,158.0,160.0,253.0,253.0,147.0,160.0,253.0,253.0,41.0,17.0,225.0,253.0,235.0,31.0,24.0,253.0,253.0,176.0,24.0,253.0,253.0,176.0,24.0,253.0,253.0,176.0,24.0,253.0,253.0,176.0,24.0,253.0,253.0,162.0,46.0,253.0,253.0,59.0,142.0,253.0,253.0,59.0,142.0,253.0,253.0,59.0,142.0,253.0,202.0,8.0,87.0,253.0,139.0])                                                                                                                                                                                                                                                                                                                                                                                                                                                                                                                                                                                                                                                                                                                                                                                                                                                                                                                                                                                                                                                                                                                                                                                                                                                                                                                                                                                                                                                                                                                                                                                                                    |\n",
      "|0.0  |(692,[153,154,155,156,157,158,159,160,161,179,180,181,182,183,184,185,186,187,188,189,190,206,207,208,209,210,211,212,213,214,215,216,217,218,232,233,234,235,236,237,238,239,240,241,242,243,244,245,246,260,261,262,263,264,265,266,267,268,269,270,271,272,273,274,287,288,289,290,291,292,293,294,295,296,297,298,299,300,301,302,315,316,317,318,319,320,321,323,324,325,326,327,328,329,330,342,343,344,345,346,354,355,356,357,358,370,371,372,373,374,382,383,384,385,386,398,399,400,401,402,410,411,412,413,414,425,426,427,428,429,439,440,441,442,453,454,455,456,467,468,469,470,481,482,483,484,495,496,497,498,508,509,510,511,512,521,522,523,524,525,526,537,538,539,540,549,550,551,552,553,565,566,567,568,576,577,578,579,580,581,593,594,595,596,597,598,599,600,601,602,603,604,605,606,607,608,621,622,623,624,625,626,627,628,629,630,631,632,633,634,650,651,652,653,654,655,656,657,658,659,660,661,678,679,680,681,682,683,684,685,686,687,688,689],[46.0,105.0,254.0,254.0,254.0,254.0,255.0,239.0,41.0,37.0,118.0,222.0,254.0,253.0,253.0,253.0,253.0,253.0,253.0,211.0,54.0,14.0,200.0,253.0,253.0,254.0,253.0,253.0,253.0,253.0,253.0,253.0,253.0,116.0,16.0,160.0,236.0,253.0,253.0,253.0,254.0,253.0,253.0,246.0,229.0,253.0,253.0,253.0,116.0,99.0,253.0,253.0,253.0,253.0,253.0,254.0,253.0,253.0,213.0,99.0,253.0,253.0,253.0,116.0,25.0,194.0,253.0,253.0,253.0,253.0,131.0,97.0,169.0,253.0,93.0,99.0,253.0,253.0,253.0,116.0,206.0,253.0,253.0,251.0,233.0,127.0,9.0,18.0,38.0,3.0,15.0,171.0,253.0,253.0,116.0,55.0,240.0,253.0,253.0,233.0,31.0,186.0,253.0,253.0,116.0,176.0,253.0,253.0,253.0,127.0,99.0,253.0,253.0,253.0,116.0,176.0,253.0,253.0,131.0,9.0,99.0,253.0,253.0,253.0,116.0,119.0,254.0,254.0,232.0,75.0,158.0,254.0,254.0,117.0,118.0,253.0,253.0,154.0,156.0,253.0,253.0,116.0,118.0,253.0,253.0,154.0,156.0,253.0,253.0,116.0,46.0,222.0,253.0,253.0,154.0,7.0,116.0,246.0,253.0,180.0,9.0,118.0,253.0,253.0,154.0,116.0,253.0,253.0,253.0,174.0,118.0,253.0,253.0,154.0,110.0,246.0,253.0,253.0,240.0,67.0,118.0,253.0,253.0,238.0,215.0,49.0,20.0,20.0,20.0,66.0,215.0,241.0,253.0,245.0,233.0,64.0,82.0,229.0,253.0,253.0,253.0,253.0,253.0,253.0,253.0,254.0,253.0,253.0,240.0,107.0,176.0,253.0,253.0,253.0,253.0,253.0,253.0,253.0,254.0,253.0,253.0,108.0,40.0,239.0,253.0,253.0,253.0,253.0,253.0,253.0,254.0,161.0,57.0,4.0])                                                      |\n",
      "|0.0  |(692,[151,152,153,154,155,177,178,179,180,181,182,183,184,185,186,187,188,205,206,207,208,209,210,211,212,213,214,215,216,217,232,233,234,235,236,237,238,239,240,241,242,243,244,245,259,260,261,262,263,264,265,266,267,268,269,270,271,272,273,274,287,288,289,290,291,292,293,294,296,297,298,299,300,301,302,315,316,317,318,319,320,321,326,327,328,329,330,342,343,344,345,346,347,348,349,356,357,358,359,370,371,372,373,374,375,384,385,386,387,398,399,400,401,412,413,414,415,426,427,428,429,441,442,443,454,455,456,457,469,470,471,482,483,484,485,496,497,498,499,510,511,512,513,514,524,525,526,527,538,539,540,541,542,543,552,553,554,555,566,567,568,569,570,571,572,573,579,580,581,582,583,595,596,597,598,599,600,601,602,606,607,608,609,610,624,625,626,627,628,629,630,631,632,633,634,635,636,637,638,653,654,655,656,657,658,659,660,661,662,663,664,684,685,686,687,688,689,690,691],[56.0,105.0,220.0,254.0,63.0,18.0,166.0,233.0,253.0,253.0,253.0,236.0,209.0,209.0,209.0,77.0,18.0,84.0,253.0,253.0,253.0,253.0,253.0,254.0,253.0,253.0,253.0,253.0,172.0,8.0,57.0,238.0,253.0,253.0,253.0,253.0,253.0,254.0,253.0,253.0,253.0,253.0,253.0,119.0,14.0,238.0,253.0,253.0,253.0,253.0,253.0,253.0,179.0,196.0,253.0,253.0,253.0,253.0,238.0,12.0,33.0,253.0,253.0,253.0,253.0,253.0,248.0,134.0,18.0,83.0,237.0,253.0,253.0,253.0,14.0,164.0,253.0,253.0,253.0,253.0,253.0,128.0,57.0,119.0,214.0,253.0,94.0,57.0,248.0,253.0,253.0,253.0,126.0,14.0,4.0,179.0,253.0,248.0,56.0,175.0,253.0,253.0,240.0,190.0,28.0,179.0,253.0,253.0,173.0,209.0,253.0,253.0,178.0,92.0,253.0,253.0,208.0,211.0,254.0,254.0,179.0,135.0,255.0,209.0,209.0,253.0,253.0,90.0,134.0,253.0,208.0,209.0,253.0,253.0,178.0,2.0,142.0,253.0,208.0,209.0,253.0,253.0,214.0,35.0,30.0,253.0,253.0,208.0,165.0,253.0,253.0,253.0,215.0,36.0,163.0,253.0,253.0,164.0,18.0,172.0,253.0,253.0,253.0,214.0,127.0,7.0,72.0,232.0,253.0,171.0,17.0,8.0,182.0,253.0,253.0,253.0,253.0,162.0,56.0,64.0,240.0,253.0,253.0,14.0,7.0,173.0,253.0,253.0,253.0,253.0,245.0,241.0,239.0,239.0,246.0,253.0,225.0,14.0,1.0,18.0,59.0,138.0,224.0,253.0,253.0,254.0,253.0,253.0,253.0,240.0,96.0,37.0,104.0,192.0,255.0,253.0,253.0,182.0,73.0])                                                                                                                                                                                                                   |\n",
      "|1.0  |(692,[129,130,131,132,157,158,159,160,184,185,186,187,188,212,213,214,215,216,240,241,242,243,267,268,269,270,271,295,296,297,298,322,323,324,325,349,350,351,352,353,376,377,378,379,380,404,405,406,407,408,431,432,433,434,435,458,459,460,461,462,486,487,488,489,490,514,515,516,517,541,542,543,544,545,569,570,571,572,596,597,598,599,600,601,624,625,626,627,628,629,653,654,655,656],[7.0,176.0,254.0,224.0,51.0,253.0,253.0,223.0,4.0,170.0,253.0,253.0,214.0,131.0,253.0,253.0,217.0,39.0,209.0,253.0,253.0,134.0,75.0,240.0,253.0,239.0,26.0,184.0,253.0,245.0,63.0,142.0,255.0,253.0,185.0,62.0,229.0,254.0,242.0,73.0,54.0,229.0,253.0,254.0,105.0,152.0,254.0,254.0,213.0,26.0,32.0,243.0,253.0,253.0,115.0,2.0,142.0,253.0,253.0,155.0,30.0,253.0,253.0,232.0,55.0,75.0,253.0,253.0,164.0,72.0,232.0,253.0,189.0,17.0,224.0,253.0,253.0,163.0,43.0,235.0,253.0,253.0,195.0,21.0,28.0,231.0,253.0,253.0,184.0,14.0,225.0,253.0,253.0,75.0])                                                                                                                                                                                                                                                                                                                                                                                                                                                                                                                                                                                                                                                                                                                                                                                                                                                                                                                                                                                                                                                                                                                                                                                                                                                                                                                                                                                                                                                                                             |\n",
      "|0.0  |(692,[154,155,156,157,158,181,182,183,184,185,186,187,207,208,209,210,211,212,213,214,215,216,217,234,235,236,237,238,239,240,241,242,243,244,245,262,263,264,265,266,267,268,269,270,271,272,273,289,290,291,292,293,294,295,296,297,298,299,300,301,302,317,318,319,320,321,322,323,324,325,326,327,328,329,330,344,345,346,347,348,349,350,351,352,353,354,355,356,357,358,359,371,372,373,374,375,376,377,378,379,380,383,384,385,386,387,398,399,400,401,402,403,406,407,408,411,412,413,414,415,426,427,428,429,430,431,439,440,441,442,443,453,454,455,456,457,458,459,467,468,469,470,471,480,481,482,483,484,485,486,487,488,489,493,494,495,496,497,498,499,508,509,510,511,512,513,514,515,516,517,521,522,523,524,525,536,537,538,539,540,548,549,550,551,552,553,564,565,566,567,574,575,576,577,578,592,593,594,595,596,602,603,604,605,606,620,621,622,623,624,625,626,627,628,629,630,631,632,633,649,650,651,652,653,654,655,656,657,658,659,678,679,680,681,682,683,684,685,686,687],[21.0,176.0,253.0,253.0,124.0,105.0,176.0,251.0,251.0,251.0,251.0,105.0,58.0,217.0,241.0,253.0,251.0,251.0,251.0,251.0,243.0,113.0,5.0,63.0,231.0,251.0,251.0,253.0,251.0,251.0,251.0,251.0,253.0,251.0,113.0,144.0,251.0,251.0,251.0,253.0,251.0,251.0,251.0,251.0,253.0,251.0,215.0,125.0,253.0,253.0,253.0,253.0,255.0,253.0,253.0,253.0,253.0,255.0,253.0,227.0,42.0,253.0,251.0,251.0,251.0,251.0,253.0,251.0,251.0,251.0,251.0,253.0,251.0,251.0,142.0,27.0,253.0,251.0,251.0,235.0,241.0,253.0,251.0,246.0,137.0,35.0,98.0,251.0,251.0,236.0,61.0,47.0,211.0,253.0,251.0,235.0,82.0,103.0,253.0,251.0,137.0,73.0,251.0,251.0,251.0,71.0,27.0,211.0,251.0,253.0,251.0,86.0,72.0,71.0,10.0,73.0,251.0,251.0,173.0,20.0,89.0,253.0,253.0,255.0,253.0,35.0,73.0,253.0,253.0,253.0,72.0,84.0,236.0,251.0,251.0,253.0,251.0,138.0,73.0,251.0,251.0,251.0,71.0,63.0,236.0,251.0,251.0,251.0,227.0,251.0,246.0,138.0,11.0,16.0,37.0,228.0,251.0,246.0,137.0,10.0,73.0,251.0,251.0,251.0,173.0,42.0,142.0,142.0,142.0,41.0,109.0,251.0,253.0,251.0,137.0,73.0,251.0,251.0,173.0,20.0,27.0,211.0,251.0,253.0,147.0,10.0,73.0,253.0,253.0,143.0,21.0,176.0,253.0,253.0,253.0,73.0,251.0,251.0,205.0,144.0,176.0,251.0,251.0,188.0,107.0,62.0,236.0,251.0,251.0,251.0,218.0,217.0,217.0,217.0,217.0,253.0,230.0,189.0,20.0,83.0,158.0,251.0,251.0,253.0,251.0,251.0,251.0,251.0,253.0,107.0,37.0,251.0,251.0,253.0,251.0,251.0,251.0,122.0,72.0,30.0])|\n",
      "|1.0  |(692,[150,151,152,153,154,155,156,157,158,186,187,210,211,212,214,215,238,239,240,241,242,243,266,267,268,269,270,271,293,294,295,296,297,298,299,321,322,323,324,326,327,349,350,351,352,376,377,378,379,380,404,405,406,407,408,432,433,434,435,459,460,461,462,463,467,487,488,489,490,494,495,515,516,517,518,522,523,543,544,545,546,550,551,571,572,573,598,599,600,601,626,627,628,629,654,655,656,682,683],[68.0,45.0,131.0,131.0,131.0,101.0,68.0,92.0,44.0,19.0,170.0,29.0,112.0,89.0,40.0,222.0,120.0,254.0,251.0,127.0,40.0,222.0,197.0,254.0,254.0,91.0,40.0,222.0,64.0,247.0,254.0,236.0,50.0,40.0,107.0,184.0,254.0,254.0,91.0,6.0,14.0,203.0,254.0,254.0,71.0,23.0,218.0,254.0,254.0,71.0,113.0,254.0,255.0,239.0,53.0,210.0,254.0,254.0,195.0,62.0,242.0,254.0,241.0,88.0,28.0,86.0,254.0,254.0,189.0,28.0,104.0,106.0,254.0,254.0,168.0,40.0,91.0,216.0,254.0,245.0,51.0,35.0,80.0,216.0,254.0,102.0,55.0,239.0,254.0,52.0,166.0,254.0,210.0,23.0,223.0,252.0,104.0,223.0,169.0])                                                                                                                                                                                                                                                                                                                                                                                                                                                                                                                                                                                                                                                                                                                                                                                                                                                                                                                                                                                                                                                                                                                                                                                                                                                                                                                                                                                                                                                     |\n",
      "|0.0  |(692,[124,125,126,127,128,150,151,152,153,154,155,156,157,177,178,179,180,181,183,184,185,186,203,204,205,206,207,212,213,214,215,216,230,231,232,233,240,241,242,243,244,245,258,259,260,268,269,272,273,274,285,286,287,301,302,303,313,314,330,331,332,341,342,359,360,369,370,387,388,397,398,415,416,425,426,443,444,453,454,455,471,472,481,482,483,499,500,510,511,512,527,528,538,539,540,541,554,555,556,567,568,569,570,581,582,583,597,598,599,600,601,606,607,608,609,610,611,626,627,628,629,630,631,632,633,634,635,636,637,638,656,657,658,659,660,661,662,663],[29.0,170.0,255.0,255.0,141.0,29.0,198.0,255.0,255.0,255.0,226.0,255.0,86.0,141.0,255.0,255.0,170.0,29.0,86.0,255.0,255.0,141.0,29.0,226.0,255.0,198.0,57.0,226.0,255.0,255.0,226.0,114.0,29.0,255.0,255.0,114.0,141.0,170.0,114.0,255.0,255.0,141.0,226.0,255.0,170.0,29.0,57.0,141.0,255.0,226.0,57.0,255.0,170.0,114.0,255.0,198.0,226.0,255.0,170.0,255.0,57.0,255.0,226.0,255.0,170.0,255.0,170.0,114.0,198.0,255.0,226.0,86.0,255.0,198.0,255.0,86.0,255.0,114.0,255.0,57.0,86.0,255.0,29.0,255.0,226.0,141.0,255.0,170.0,255.0,170.0,226.0,198.0,29.0,226.0,255.0,170.0,29.0,255.0,114.0,29.0,226.0,255.0,141.0,57.0,226.0,226.0,141.0,255.0,255.0,170.0,86.0,29.0,86.0,226.0,255.0,226.0,29.0,86.0,198.0,255.0,255.0,255.0,255.0,255.0,255.0,255.0,255.0,255.0,141.0,29.0,29.0,114.0,170.0,170.0,170.0,170.0,170.0,86.0])                                                                                                                                                                                                                                                                                                                                                                                                                                                                                                                                                                                                                                                                                                                                                                                                                                                                                                                                                                                                                                        |\n",
      "|0.0  |(692,[152,153,154,155,156,157,158,159,179,180,181,182,183,184,185,186,187,188,206,207,208,209,210,211,212,213,214,215,216,233,234,235,236,237,238,239,240,241,242,243,244,261,262,263,264,265,266,267,268,269,270,271,272,289,290,291,292,293,294,295,296,297,298,299,300,301,317,318,319,320,321,322,323,324,325,326,327,328,329,345,346,347,348,349,350,353,354,355,356,373,374,375,376,381,382,383,384,385,400,401,402,403,404,409,410,411,412,413,427,428,429,430,431,432,437,438,439,440,455,456,457,458,459,460,465,466,467,468,469,483,484,485,486,487,493,494,495,496,497,511,512,513,514,521,522,523,524,539,540,541,542,543,549,550,551,552,568,569,570,571,572,575,576,577,578,579,580,595,596,597,598,599,600,601,602,603,604,605,606,607,624,625,626,627,628,629,630,631,632,633,634,635,653,654,655,656,657,658,659,660,661,662,663,682,683,684,685,686,687,688,689,690],[203.0,254.0,252.0,252.0,252.0,214.0,51.0,20.0,62.0,221.0,252.0,250.0,250.0,250.0,252.0,250.0,160.0,20.0,62.0,211.0,250.0,252.0,250.0,250.0,250.0,252.0,250.0,250.0,49.0,41.0,221.0,250.0,250.0,252.0,250.0,250.0,250.0,252.0,250.0,128.0,10.0,254.0,252.0,252.0,252.0,254.0,252.0,252.0,252.0,254.0,252.0,252.0,90.0,150.0,190.0,250.0,250.0,252.0,250.0,250.0,169.0,171.0,250.0,250.0,250.0,82.0,31.0,191.0,250.0,250.0,252.0,189.0,100.0,20.0,172.0,250.0,250.0,250.0,80.0,213.0,250.0,250.0,250.0,212.0,29.0,252.0,250.0,250.0,250.0,92.0,252.0,252.0,252.0,51.0,252.0,252.0,252.0,203.0,82.0,252.0,250.0,250.0,169.0,132.0,250.0,250.0,250.0,121.0,92.0,231.0,252.0,250.0,159.0,20.0,252.0,250.0,250.0,250.0,30.0,211.0,252.0,250.0,221.0,40.0,90.0,250.0,250.0,250.0,163.0,31.0,213.0,254.0,232.0,80.0,92.0,252.0,252.0,212.0,163.0,151.0,250.0,252.0,149.0,252.0,250.0,250.0,49.0,60.0,221.0,252.0,210.0,60.0,252.0,250.0,250.0,49.0,202.0,252.0,250.0,221.0,40.0,123.0,202.0,252.0,250.0,250.0,49.0,123.0,243.0,255.0,252.0,252.0,252.0,254.0,252.0,252.0,252.0,254.0,252.0,100.0,121.0,171.0,250.0,250.0,250.0,252.0,250.0,250.0,250.0,252.0,250.0,100.0,20.0,160.0,250.0,250.0,252.0,250.0,250.0,250.0,252.0,189.0,40.0,20.0,170.0,250.0,252.0,250.0,128.0,49.0,49.0,29.0])                                                                                                                                                                                                                                                                            |\n",
      "|1.0  |(692,[97,98,99,124,125,126,127,128,151,152,153,154,155,156,178,179,180,181,182,183,205,206,207,208,209,210,211,233,234,235,236,237,238,239,261,262,263,264,265,266,267,289,290,291,292,293,294,295,321,322,323,349,350,351,377,378,379,405,406,407,432,433,434,460,461,462,467,468,488,489,490,493,494,495,496,516,517,518,519,520,521,522,523,524,543,544,545,546,547,548,549,550,551,552,570,571,572,573,574,575,576,577,578,579,580,598,599,600,601,602,603,604,605,606,626,627,628,629,630,631,632,633],[64.0,191.0,70.0,68.0,243.0,253.0,249.0,63.0,30.0,223.0,253.0,253.0,247.0,41.0,73.0,238.0,253.0,253.0,253.0,242.0,73.0,236.0,253.0,253.0,253.0,253.0,242.0,182.0,253.0,253.0,191.0,247.0,253.0,149.0,141.0,253.0,143.0,86.0,249.0,253.0,122.0,9.0,36.0,7.0,14.0,233.0,253.0,122.0,230.0,253.0,122.0,230.0,253.0,122.0,231.0,255.0,123.0,230.0,253.0,52.0,61.0,245.0,253.0,98.0,253.0,253.0,35.0,12.0,98.0,253.0,253.0,9.0,142.0,233.0,146.0,190.0,253.0,253.0,128.0,7.0,99.0,253.0,253.0,180.0,29.0,230.0,253.0,253.0,252.0,210.0,253.0,253.0,253.0,140.0,28.0,207.0,253.0,253.0,253.0,254.0,253.0,253.0,235.0,70.0,9.0,126.0,253.0,253.0,253.0,253.0,254.0,253.0,168.0,19.0,79.0,253.0,253.0,201.0,190.0,132.0,63.0,5.0])                                                                                                                                                                                                                                                                                                                                                                                                                                                                                                                                                                                                                                                                                                                                                                                                                                                                                                                                                                                                                                                                                                                                                                                                                  |\n",
      "|1.0  |(692,[124,125,126,152,153,154,181,182,183,209,210,211,237,238,239,265,266,267,293,294,295,321,322,323,349,350,351,377,378,379,405,406,407,433,434,435,461,462,463,489,490,491,516,517,518,519,544,545,546,547,572,573,574,600,601,602,628,629,630,656,657,658],[26.0,240.0,72.0,25.0,238.0,208.0,209.0,226.0,14.0,209.0,254.0,43.0,175.0,254.0,128.0,63.0,254.0,204.0,107.0,254.0,204.0,88.0,254.0,204.0,55.0,254.0,204.0,126.0,254.0,204.0,126.0,254.0,189.0,169.0,254.0,121.0,209.0,254.0,193.0,209.0,254.0,111.0,22.0,235.0,254.0,37.0,137.0,254.0,227.0,16.0,205.0,255.0,185.0,205.0,254.0,125.0,205.0,254.0,125.0,111.0,212.0,43.0])                                                                                                                                                                                                                                                                                                                                                                                                                                                                                                                                                                                                                                                                                                                                                                                                                                                                                                                                                                                                                                                                                                                                                                                                                                                                                                                                                                                                                                                                                                                                                                                                                                                                                                                                                                                                               |\n",
      "+-----+--------------------------------------------------------------------------------------------------------------------------------------------------------------------------------------------------------------------------------------------------------------------------------------------------------------------------------------------------------------------------------------------------------------------------------------------------------------------------------------------------------------------------------------------------------------------------------------------------------------------------------------------------------------------------------------------------------------------------------------------------------------------------------------------------------------------------------------------------------------------------------------------------------------------------------------------------------------------------------------------------------------------------------------------------------------------------------------------------------------------------------------------------------------------------------------------------------------------------------------------------------------------------------------------------------------------------------------------------------------------------------------------------------------------------------------------------------------------------------------------------------------------------------------------------------------------------------------------------------------------------------------------------------------------------------------------------------------------------------------------------------------------------------------------------------------------------------------------------------------------------------------------------------------------------------------------------------------------------------------------------------------------------------------------------------------------------------------------------------------------------------------------------------------------------------------------------------------------------------------------------------------------------------------------------------------------------------------------------------------------------------------------------------------------------------------------------------+\n",
      "only showing top 20 rows\n",
      "\n"
     ]
    }
   ],
   "source": [
    "data.show(truncate=False)"
   ]
  },
  {
   "cell_type": "code",
   "execution_count": null,
   "metadata": {},
   "outputs": [],
   "source": [
    "from pyspark.ml.classification import LogisticRegression, DecisionTreeClassifier\n",
    "from pyspark.ml.evaluation import BinaryClassificationEvaluator\n",
    "from pyspark.ml.tuning import ParamGridBuilder, TrainValidationSplit, CrossValidator\n",
    "\n",
    "\n",
    "#Train_test_split\n",
    "(trainingData, testData) = vector_data.randomSplit([0.8, 0.2])\n",
    "\n",
    "#cross_validation_train setup\n",
    "evaluator = BinaryClassificationEvaluator()\n",
    "#LR model\n",
    "lr = LogisticRegression(maxIter=10)\n",
    "\n",
    "paramGrid_lr = ParamGridBuilder()\\\n",
    "    .addGrid(lr.regParam, [0.1, 0.01]) \\\n",
    "    .addGrid(lr.fitIntercept, [False, True])\\\n",
    "    .build()\n",
    "\n",
    "cv_lr = CrossValidator(estimator=lr,estimatorParamMaps=paramGrid_lr,evaluator=evaluator,numFolds=3)\n",
    "\n",
    "\n",
    "#Decision Tree model\n",
    "dt = DecisionTreeClassifier(labelCol=\"label\", featuresCol=\"features\")\n",
    "\n",
    "paramGrid_dt = ParamGridBuilder()\\\n",
    "    .addGrid(dt.maxDepth, [2, 3, 5]).build()\n",
    "    \n",
    "cv_dt = CrossValidator(estimator=dt,estimatorParamMaps=paramGrid_dt,evaluator=evaluator,numFolds=3)    \n",
    "# Run Crossvalidation, and choose the best set of parameters.\n",
    "lr_model = cv_lr.fit(trainingData)\n",
    "dt_model = cv_dt.fit(trainingData)\n",
    "\n",
    "# Make predictions.\n",
    "\n",
    "lr_prediction = lr_model.transform(testData)\n",
    "dt_prediction = dt_model.transform(testData)\n",
    "\n",
    "accuracy_lr = evaluator.evaluate(lr_prediction)\n",
    "accuracy_dt = evaluator.evaluate(dt_prediction)\n",
    "print(\"LR accuracy = %g \" % accuracy_lr)\n",
    "print(\"DT accuracy = %g \" % accuracy_dt)"
   ]
  },
  {
   "cell_type": "code",
   "execution_count": null,
   "metadata": {},
   "outputs": [],
   "source": []
  }
 ],
 "metadata": {
  "kernelspec": {
   "display_name": "Python 3",
   "language": "python",
   "name": "python3"
  },
  "language_info": {
   "codemirror_mode": {
    "name": "ipython",
    "version": 3
   },
   "file_extension": ".py",
   "mimetype": "text/x-python",
   "name": "python",
   "nbconvert_exporter": "python",
   "pygments_lexer": "ipython3",
   "version": "3.5.2"
  }
 },
 "nbformat": 4,
 "nbformat_minor": 2
}
