{
 "cells": [
  {
   "cell_type": "code",
   "execution_count": 1,
   "metadata": {},
   "outputs": [],
   "source": [
    "import findspark\n",
    "findspark.init('/home/kakade/spark')\n",
    "import pyspark\n",
    "from pyspark import SparkContext, SparkConf\n",
    "from pyspark.sql import SparkSession,SQLContext\n",
    "spark = SparkSession.builder.appName(\"kakade\").getOrCreate()"
   ]
  },
  {
   "cell_type": "code",
   "execution_count": 2,
   "metadata": {},
   "outputs": [],
   "source": [
    "from pyspark.sql.types import StructField,StringType,FloatType,StructType\n",
    "#Add header to data feature\n",
    "feature_schema = [StructField(\"country\", StringType(), True), StructField(\"sku_id\", StringType(), True), \\\n",
    "                  StructField(\"title\",StringType(), True), StructField(\"category_1\",StringType(), True), \\\n",
    "                  StructField(\"category_2\",StringType(), True), StructField(\"category_3\",StringType(), True), \\\n",
    "                  StructField(\"description\",StringType(), True), StructField(\"org_price\", FloatType(), True), \\\n",
    "                  StructField(\"product_type\",StringType(), True)]\n",
    "# country sku_id title category_1 category_2 category_3 short_description price product_type \n",
    "feature_struc = StructType(fields=feature_schema)"
   ]
  },
  {
   "cell_type": "code",
   "execution_count": 11,
   "metadata": {},
   "outputs": [],
   "source": [
    "train_feature = spark.read.csv(\"../Data/training/data_train.csv\",escape='\"',schema=feature_struc)"
   ]
  },
  {
   "cell_type": "code",
   "execution_count": 15,
   "metadata": {},
   "outputs": [
    {
     "ename": "NameError",
     "evalue": "name 'col' is not defined",
     "output_type": "error",
     "traceback": [
      "\u001b[0;31m---------------------------------------------------------------------------\u001b[0m",
      "\u001b[0;31mNameError\u001b[0m                                 Traceback (most recent call last)",
      "\u001b[0;32m<ipython-input-15-0c2b4caa3ec3>\u001b[0m in \u001b[0;36m<module>\u001b[0;34m()\u001b[0m\n\u001b[1;32m      3\u001b[0m \u001b[0;31m# train_feature.groupBy(\"category_1\").count().orderBy(\"count\",ascending=False).show(truncate=False)\u001b[0m\u001b[0;34m\u001b[0m\u001b[0;34m\u001b[0m\u001b[0m\n\u001b[1;32m      4\u001b[0m \u001b[0mmain_category\u001b[0m\u001b[0;34m=\u001b[0m\u001b[0mtrain_feature\u001b[0m\u001b[0;34m.\u001b[0m\u001b[0mgroupBy\u001b[0m\u001b[0;34m(\u001b[0m\u001b[0;34m\"category_1\"\u001b[0m\u001b[0;34m)\u001b[0m\u001b[0;34m.\u001b[0m\u001b[0mcount\u001b[0m\u001b[0;34m(\u001b[0m\u001b[0;34m)\u001b[0m\u001b[0;34m.\u001b[0m\u001b[0mfilter\u001b[0m\u001b[0;34m(\u001b[0m\u001b[0;34m\"count>5\"\u001b[0m\u001b[0;34m)\u001b[0m\u001b[0;34m\u001b[0m\u001b[0m\n\u001b[0;32m----> 5\u001b[0;31m \u001b[0mtrain_feature\u001b[0m \u001b[0;34m=\u001b[0m \u001b[0mtrain_feature\u001b[0m\u001b[0;34m.\u001b[0m\u001b[0mjoin\u001b[0m\u001b[0;34m(\u001b[0m\u001b[0mmain_category\u001b[0m\u001b[0;34m,\u001b[0m \u001b[0mcol\u001b[0m\u001b[0;34m(\u001b[0m\u001b[0;34m\"train_feature.category_1\"\u001b[0m\u001b[0;34m)\u001b[0m \u001b[0;34m==\u001b[0m \u001b[0mcol\u001b[0m\u001b[0;34m(\u001b[0m\u001b[0;34m\"main_category.category_1\"\u001b[0m\u001b[0;34m)\u001b[0m\u001b[0;34m,\u001b[0m \u001b[0;34m'inner'\u001b[0m\u001b[0;34m)\u001b[0m\u001b[0;34m\u001b[0m\u001b[0m\n\u001b[0m",
      "\u001b[0;31mNameError\u001b[0m: name 'col' is not defined"
     ]
    }
   ],
   "source": [
    "#most other category only contain <=5 products\n",
    "#filter products out of the main categories\n",
    "# train_feature.groupBy(\"category_1\").count().orderBy(\"count\",ascending=False).show(truncate=False)\n",
    "main_category=train_feature.groupBy(\"category_1\").count().filter(\"count>5\")\n",
    "train_feature = train_feature.join(main_category, col(\"train_feature.category_1\") == col(\"main_category.category_1\"), 'inner')"
   ]
  },
  {
   "cell_type": "code",
   "execution_count": 16,
   "metadata": {},
   "outputs": [],
   "source": [
    "from bs4 import BeautifulSoup\n",
    "from pyspark.sql.functions import udf\n",
    "from pyspark.ml.feature import Tokenizer, RegexTokenizer,StopWordsRemover,CountVectorizer"
   ]
  },
  {
   "cell_type": "code",
   "execution_count": 17,
   "metadata": {},
   "outputs": [],
   "source": [
    "def html_extract_func(col):\n",
    "    soup=BeautifulSoup(col)\n",
    "    return soup.get_text()\n",
    "    return (1-col1/col2)**2\n",
    "html_extract = udf(html_extract_func, StringType())\n",
    "train_feature = train_feature.withColumn(\"html_extract\",html_extract(\"description\"))\n",
    "# train_feature.select(\"html_extract\").show(truncate=False)"
   ]
  },
  {
   "cell_type": "code",
   "execution_count": 18,
   "metadata": {},
   "outputs": [
    {
     "name": "stdout",
     "output_type": "stream",
     "text": [
      "root\n",
      " |-- country: string (nullable = true)\n",
      " |-- sku_id: string (nullable = true)\n",
      " |-- title: string (nullable = true)\n",
      " |-- category_1: string (nullable = true)\n",
      " |-- category_2: string (nullable = true)\n",
      " |-- category_3: string (nullable = true)\n",
      " |-- description: string (nullable = true)\n",
      " |-- org_price: float (nullable = true)\n",
      " |-- product_type: string (nullable = true)\n",
      " |-- html_extract: string (nullable = true)\n",
      "\n"
     ]
    }
   ],
   "source": [
    "train_feature.printSchema()"
   ]
  },
  {
   "cell_type": "code",
   "execution_count": 10,
   "metadata": {},
   "outputs": [
    {
     "name": "stdout",
     "output_type": "stream",
     "text": [
      "+-------------------------------------------------------------------------------------------------------------------------------------------------------------------------------------------------------------------------------------------------------------------------------------------------------------------------------------------------------------------------------------------------------------------------------------------------------------------------------------+\n",
      "|stop_words_filtered                                                                                                                                                                                                                                                                                                                                                                                                                                                                  |\n",
      "+-------------------------------------------------------------------------------------------------------------------------------------------------------------------------------------------------------------------------------------------------------------------------------------------------------------------------------------------------------------------------------------------------------------------------------------------------------------------------------------+\n",
      "|[material, non, sheer, shimmer, chiffonsizes, x, inches, x, inchescut, curved, ends]                                                                                                                                                                                                                                                                                                                                                                                                 |\n",
      "|[formulated, oil, free, hydrating, botanicals, remarkably, improves, skin, texture, abused, hands, restores, soft, smooth, refined, hands]                                                                                                                                                                                                                                                                                                                                           |\n",
      "|[cm, mini, microphone, compatible, iphone, various, smartphones, also, ipad, apple, computer, macbook, dual, headed, design, allows, two, people, using, simultaneously, features, high, sensitivity, omni, directional, sounds, output, perfect, audio, video, recording, mm, standard, connector, jack, convenient, clip, design, clip, collar, mm, standard, connector, jack, convenient, clip, design, clip, collar]                                                             |\n",
      "|[anmyna, complaint, silky, set, shampoo, ml, conditioner, ml, deep, nourish, repair, damaged, hair, protect, scalp, prevent, hair, loss]                                                                                                                                                                                                                                                                                                                                             |\n",
      "|[authentic, rrefresh, brighten, skin, anti, wrinkle, deep, cleansing, effects]                                                                                                                                                                                                                                                                                                                                                                                                       |\n",
      "|[genuine, windows, hd, touch, intel, core, u, gb, ram, gb, rom, nvidia, geforce, gt, m, card, reader, sd, sdhc, vga, web, camera, asus, sonicmaster, lite, technology]                                                                                                                                                                                                                                                                                                               |\n",
      "|[color, temperature, k, ra, voltage, v, v, power, w, w, diameter, cm, inner, outer, weight, g]                                                                                                                                                                                                                                                                                                                                                                                       |\n",
      "|[reviving, like, new, born, baby, age, apply, age, net, content, app, g, pair, guarantee, period, years]                                                                                                                                                                                                                                                                                                                                                                             |\n",
      "|[designed, constructed, super, speed, usb, specifications, extend, usb, port, pc, laptop, practical, spot, desktop, enables, throughput, gbps, used, usb, host, device, backwards, compatible, usb, usb, specification, convenient, slim, flat, cable, design, ultra, flexible, tangle, free]                                                                                                                                                                                        |\n",
      "|[genuine, issued, mcdonald, coca, cola, merchandize, limited, edition, collection, brand, new, paper, packaging, color, purple, limited, stock, left, second, chance, ideal, putting, drink, beverage, even, coke, even, ideal, keeping, coca, cola, museum, free, shipping]                                                                                                                                                                                                         |\n",
      "|[stainless, steel, filter, stainless, tea, filter, tea, ball, filter]                                                                                                                                                                                                                                                                                                                                                                                                                |\n",
      "|[material, genuine, prehnite, crystal, beads, size, mm, beads, length, cm, stretchy]                                                                                                                                                                                                                                                                                                                                                                                                 |\n",
      "|[lead, nickle, free, good, quality, free, shipping, enough, stock]                                                                                                                                                                                                                                                                                                                                                                                                                   |\n",
      "|[accurately, track, day, stats, like, steps, taken, distance, traveled, calories, burned, stairs, climbed, active, minutes, see, daily, stats, time, day, bright, oled, display, monitor, long, well, sleep, wake, silent, vibrating, alarm, get, call, notifications, right, wrist, access, real, time, run, stats, like, time, distance, pace, stay, track, sync, stats, wirelessly, automatically, computer, leading, smartphones]                                                |\n",
      "|[apply, morning, evening, eyelash, treatment, excellent, occular, tolerability]                                                                                                                                                                                                                                                                                                                                                                                                      |\n",
      "|[brand, new, high, quality, fashion, men, business, shoes, pu, leather, lace, shoes, type, formal, shoes, gender, men, material, pu, rubber, sole, color, brown, black, asian, size]                                                                                                                                                                                                                                                                                                 |\n",
      "|[gender, men, movement, mechanical, movement, type, automatic, self, wind, type, skeleton, watch, display, analog, case, material, alloy, dial, color, black, case, diameter, mm, case, diameter, approx, mm, case, thickness, approx, mm, band, color, black, band, material, stailess, steel, band, length, approx, cm, band, width, approx, cm, net, weight, kg]                                                                                                                  |\n",
      "|[print, sides, glossy, finish, diy, customize, images, designs, text, slim, profile, lightweight, impact, resistant, durable, hard, plastic, access, ports, controls, sensors, lay, flat, bezel, protect, screen, directly, contacting, surfaces, keep, nice, mood, every, day, best, valentine, day, christmas, birthday, hallowmas, little, gift, girls, boys, women, men, friends, family, new, fashionable, cute, lovely, funny, cool, useful, cheap, excellent, choices, jianse]|\n",
      "|[item, type, phone, holder, size, x, x, cm, material, alloy, pvc, compatible, phone, model, inches, color, light, blue]                                                                                                                                                                                                                                                                                                                                                              |\n",
      "|[genuine, authentic, products, free, fast, shipping, buy, confidence]                                                                                                                                                                                                                                                                                                                                                                                                                |\n",
      "+-------------------------------------------------------------------------------------------------------------------------------------------------------------------------------------------------------------------------------------------------------------------------------------------------------------------------------------------------------------------------------------------------------------------------------------------------------------------------------------+\n",
      "only showing top 20 rows\n",
      "\n"
     ]
    }
   ],
   "source": [
    "import pyspark.sql.functions as F\n",
    "des_cat_test = train_feature.select(\"category_1\",\"sku_id\",F.regexp_replace(train_feature.html_extract, '(\\d+)', ' ').alias('html_extract'))\n",
    "regexTokenizer = RegexTokenizer(inputCol=\"html_extract\", outputCol=\"description_token\", pattern=\"\\\\W\")\n",
    "des_cat_test = regexTokenizer.transform(des_cat_test)\n",
    "stop_words_remover = StopWordsRemover(inputCol=\"description_token\", outputCol=\"stop_words_filtered\")\n",
    "des_cat_test = stop_words_remover.transform(des_cat_test)\n",
    "des_cat_test.select(\"stop_words_filtered\").show(truncate=False)"
   ]
  },
  {
   "cell_type": "code",
   "execution_count": 13,
   "metadata": {},
   "outputs": [],
   "source": [
    "##currency_exchange\n",
    "#set all price to PHP\n",
    "import pyspark.sql.functions as F\n",
    "from forex_python.converter import CurrencyRates\n",
    "cex = CurrencyRates()\n",
    "S2P=cex.get_rate(\"SGD\",\"PHP\")\n",
    "M2P=cex.get_rate(\"MYR\",\"PHP\")\n",
    "train_feature=train_feature.withColumn(\"price\", F.when(train_feature.country == \"my\", M2P*train_feature.org_price).when(train_feature.country == \"sg\", S2P*train_feature.org_price).otherwise(train_feature.org_price))\n",
    "                                    "
   ]
  },
  {
   "cell_type": "code",
   "execution_count": 15,
   "metadata": {},
   "outputs": [
    {
     "name": "stdout",
     "output_type": "stream",
     "text": [
      "+------------------+---------+\n",
      "|             price|org_price|\n",
      "+------------------+---------+\n",
      "|            597.31|     49.0|\n",
      "|           1560.32|    128.0|\n",
      "| 305.6032962799072|    25.07|\n",
      "|1438.4199999999998|    118.0|\n",
      "|1399.4120372009277|    114.8|\n",
      "|31681.809999999998|   2599.0|\n",
      "| 4741.787980957031|   388.99|\n",
      "|126.77599534988403|     10.4|\n",
      "|               0.0|      0.0|\n",
      "|            304.75|     25.0|\n",
      "|115.56119441986084|     9.48|\n",
      "| 950.8199999999999|     78.0|\n",
      "|189.55450232505797|    15.55|\n",
      "|6082.8099999999995|    499.0|\n",
      "|            1462.8|    120.0|\n",
      "|              null|     null|\n",
      "| 1031.273981399536|     84.6|\n",
      "|             365.7|     30.0|\n",
      "| 203.0853981399536|    16.66|\n",
      "|2072.2999999999997|    170.0|\n",
      "+------------------+---------+\n",
      "only showing top 20 rows\n",
      "\n"
     ]
    }
   ],
   "source": [
    "train_feature.select(\"price\",\"org_price\").show()"
   ]
  },
  {
   "cell_type": "code",
   "execution_count": 20,
   "metadata": {},
   "outputs": [
    {
     "name": "stdout",
     "output_type": "stream",
     "text": [
      "+--------------------------------------------------------------+-----+\n",
      "|category_1                                                    |count|\n",
      "+--------------------------------------------------------------+-----+\n",
      "|Mobiles & Tablets                                             |7273 |\n",
      "|Home & Living                                                 |6042 |\n",
      "|Fashion                                                       |5729 |\n",
      "|Watches Sunglasses Jewellery                                  |4216 |\n",
      "|Health & Beauty                                               |4040 |\n",
      "|Computers & Laptops                                           |2882 |\n",
      "|TV, Audio / Video, Gaming & Wearables                         |2505 |\n",
      "|Cameras                                                       |1950 |\n",
      "|Home Appliances                                               |1583 |\n",
      "| 8GB                                                          |5    |\n",
      "| 4GB                                                          |5    |\n",
      "|A1466)                                                        |2    |\n",
      "| Black\"                                                       |2    |\n",
      "| Direct Shipping &amp; Free Installation in Klang Valley\"     |2    |\n",
      "|Soft-Touch Plastic 13 inch Cover for Apple MacBook Pro 13.3\"\"\"|1    |\n",
      "|W7Pro)\"                                                       |1    |\n",
      "|W10\"                                                          |1    |\n",
      "| Crystal-Black)\"                                              |1    |\n",
      "| BLACK + ASUS ORIGINAL DESIGN BACKPACK\"                       |1    |\n",
      "| W8.1) - FREE Office 365 Personal + Targus Backpack\"          |1    |\n",
      "+--------------------------------------------------------------+-----+\n",
      "only showing top 20 rows\n",
      "\n"
     ]
    }
   ],
   "source": [
    "des_cat_test.groupBy(\"category_1\").count().orderBy(\"count\",ascending=False).show(truncate=False)"
   ]
  },
  {
   "cell_type": "code",
   "execution_count": 32,
   "metadata": {},
   "outputs": [
    {
     "ename": "SyntaxError",
     "evalue": "keyword can't be an expression (<ipython-input-32-8532e3f6520c>, line 2)",
     "output_type": "error",
     "traceback": [
      "\u001b[0;36m  File \u001b[0;32m\"<ipython-input-32-8532e3f6520c>\"\u001b[0;36m, line \u001b[0;32m2\u001b[0m\n\u001b[0;31m    cat_train_test = des_cat_test.join(main_category,des_cat_test.category_1=main_category.category_1, 'inner')\u001b[0m\n\u001b[0m                                                    ^\u001b[0m\n\u001b[0;31mSyntaxError\u001b[0m\u001b[0;31m:\u001b[0m keyword can't be an expression\n"
     ]
    }
   ],
   "source": [
    "main_category=des_cat_test.groupBy(\"category_1\").count().filter(\"count>5\")\n",
    "cat_train_test = des_cat_test.join(main_category,des_cat_test.category_1=main_category.category_1, 'inner')"
   ]
  },
  {
   "cell_type": "code",
   "execution_count": 5,
   "metadata": {},
   "outputs": [
    {
     "name": "stdout",
     "output_type": "stream",
     "text": [
      "+-------+------------------+\n",
      "|summary|            sku_id|\n",
      "+-------+------------------+\n",
      "|  count|             36283|\n",
      "|   mean|              null|\n",
      "| stddev|              null|\n",
      "|    min|1A127ELAA3U0JKANPH|\n",
      "|    max|  ZY795HLCZ3O0ANMY|\n",
      "+-------+------------------+\n",
      "\n"
     ]
    }
   ],
   "source": [
    "train_feature.select(\"sku_id\").describe().show()"
   ]
  },
  {
   "cell_type": "code",
   "execution_count": 12,
   "metadata": {},
   "outputs": [
    {
     "name": "stdout",
     "output_type": "stream",
     "text": [
      "+---------------------------------------------------------------------------------------------------------------------------------------------------------------------------------------------------------------------------------------------------------------------------------------------------------------------------------------------------------------------------------------------------------------------------------------------------------------------------------------------------------------------------------------------------------------------------------------------------------------------------------------------------------------------------------------------------------------------------------------------------------------------------------------------------------------------------------------------------------------------------------------------------------------------------------------------------------------------------------------------------------------------------------+\n",
      "|description                                                                                                                                                                                                                                                                                                                                                                                                                                                                                                                                                                                                                                                                                                                                                                                                                                                                                                                                                                                                                      |\n",
      "+---------------------------------------------------------------------------------------------------------------------------------------------------------------------------------------------------------------------------------------------------------------------------------------------------------------------------------------------------------------------------------------------------------------------------------------------------------------------------------------------------------------------------------------------------------------------------------------------------------------------------------------------------------------------------------------------------------------------------------------------------------------------------------------------------------------------------------------------------------------------------------------------------------------------------------------------------------------------------------------------------------------------------------+\n",
      "|<ul><li>Material : Non sheer shimmer chiffon</li><li>Sizes : 52 x 52 inches OR 56 x 56 inches</li><li>Cut with curved ends</li></ul>                                                                                                                                                                                                                                                                                                                                                                                                                                                                                                                                                                                                                                                                                                                                                                                                                                                                                             |\n",
      "|Formulated with oil-free hydrating botanicals/ Remarkably improves skin texture of abused hands/Restores soft, smooth & refined hands                                                                                                                                                                                                                                                                                                                                                                                                                                                                                                                                                                                                                                                                                                                                                                                                                                                                                            |\n",
      "|<ul> <li>150cm mini microphone compatible for iPhone, various smartphones, and also for iPad/ Apple computer/ Macbook.</li> <li>Dual-headed design, allows for two people using simultaneously.</li> <li>Features high sensitivity &amp; omni-directional sounds output, perfect for audio and video recording.</li> <li>3.5mm standard connector jack.</li> <li>Convenient clip-on design, can clip it on your collar.</li> <li>3.5mm standard connector jack. Convenient clip-on design, can clip it on your collar.</li> </ul>                                                                                                                                                                                                                                                                                                                                                                                                                                                                                                |\n",
      "|<ul> <li>ANMYNA Complaint Silky Set (Shampoo 520ml + Conditioner 250ml)</li> <li>Deep nourish</li> <li>Repair damaged hair</li> <li>Protect the scalp and prevent hair loss</li> </ul>                                                                                                                                                                                                                                                                                                                                                                                                                                                                                                                                                                                                                                                                                                                                                                                                                                           |\n",
      "|<ul> <li>100% Authentic</li> <li>Rrefresh and brighten skin</li> <li>Anti-wrinkle and deep cleansing effects</li> </ul>                                                                                                                                                                                                                                                                                                                                                                                                                                                                                                                                                                                                                                                                                                                                                                                                                                                                                                          |\n",
      "|<div class=\"prod_content\"> <div class=\"prod_details\"> <ul class=\"prd-attributesList ui-listBulleted\"> <li class=\"\">Genuine Windows® 8.1</li> <li class=\"\">13.3in 16:9 HD TOUCH</li> <li class=\"\">Intel® Core™ I5-5200U</li> <li class=\"\">4GB RAM - 500GB ROM</li> <li class=\"\">NVIDIA® GeForce® GT 920M</li> <li class=\"\">2 -in-1 card reader ( SD/ SDHC)</li> <li class=\"\">VGA Web Camera</li> <li class=\"\">ASUS SonicMaster Lite Technology</li> </ul> </div> </div>                                                                                                                                                                                                                                                                                                                                                                                                                                                                                                                                                           |\n",
      "|<ul> <li>1. Color Temperature: 5400K</li> <li>2. Ra: &gt;90</li> <li>3. Voltage: 220V/110V</li> <li>4. Power: 40W×1=40W</li> <li>5. Diameter: 235/315cm (inner/outer)</li> <li>6. Weight: 640g</li> </ul>                                                                                                                                                                                                                                                                                                                                                                                                                                                                                                                                                                                                                                                                                                                                                                                                                        |\n",
      "|<ul> <li>Reviving like a new born baby.</li> <li>Age:Apply at any age</li> <li>NET content: App 38g/pair</li> <li>Guarantee period: 3 years</li> </ul>                                                                                                                                                                                                                                                                                                                                                                                                                                                                                                                                                                                                                                                                                                                                                                                                                                                                           |\n",
      "|<ul style= \"padding: 0px; margin: 20px 0px 0px 15px; color: rgb(0, 0, 0); font-family: Arial, Helvetica, sans-serif; font-size: medium; line-height: 16px;\"> <li style= \"padding: 0px; margin: 0px 0px 10px; font-size: 0.8em; text-align: justify;\"> Designed and constructed to super-speed USB 3.0 Specifications.</li> <li style= \"padding: 0px; margin: 0px 0px 10px; font-size: 0.8em; text-align: justify;\"> Extend your USB 3.0 port from your PC or Laptop to a more practical spot on your desktop.</li> <li style= \"padding: 0px; margin: 0px 0px 10px; font-size: 0.8em; text-align: justify;\"> Enables throughput of up to 5Gbps when used with a USB 3.0 host and device.</li> <li style= \"padding: 0px; margin: 0px 0px 10px; font-size: 0.8em; text-align: justify;\"> Backwards compatible with USB 2.0 and USB 1.1 specification.</li> <li style= \"padding: 0px; margin: 0px 0px 10px; font-size: 0.8em; text-align: justify;\"> Convenient Slim Flat cable design is ultra-flexible and tangle-free.</li> </ul> |\n",
      "|<ul> <li>Genuine issued McDonald's Coca Cola merchandize</li> <li>Limited 2010 Edition for Collection</li> <li>Brand New in paper packaging</li> <li>Color : Purple</li> <li>Limited Stock Left, no second chance</li> <li>Ideal for putting drink and beverage, or even the Coke</li> <li>Even more ideal for keeping in your Coca Cola museum</li> <li>Free Shipping</li> </ul>                                                                                                                                                                                                                                                                                                                                                                                                                                                                                                                                                                                                                                                |\n",
      "|<ul> <li>Stainless Steel Filter</li> <li>Stainless Tea Filter</li> <li>Tea Ball Filter</li> </ul>                                                                                                                                                                                                                                                                                                                                                                                                                                                                                                                                                                                                                                                                                                                                                                                                                                                                                                                                |\n",
      "|<ul> <li>Material: Genuine Prehnite Crystal Beads</li> <li>Size: 7mm, 26 beads</li> <li>Length: 16.5cm, Stretchy</li> </ul>                                                                                                                                                                                                                                                                                                                                                                                                                                                                                                                                                                                                                                                                                                                                                                                                                                                                                                      |\n",
      "|<ul> <li>Lead and Nickle Free</li> <li>Good Quality and Free Shipping</li> <li>Enough Stock</li> </ul>                                                                                                                                                                                                                                                                                                                                                                                                                                                                                                                                                                                                                                                                                                                                                                                                                                                                                                                           |\n",
      "|<ul> <li>Accurately track all-day stats like steps taken, distance traveled, calories burned, stairs climbed, and active minutes</li> <li>See daily stats and time of day with a bright OLED display</li> <li>Monitor how long and how well you sleep, and wake with a silent vibrating alarm Get call notifications right on your wrist</li> <li>Access real-time run stats like time, distance, and pace to stay on track</li> <li>Sync stats wirelessly and automatically to your computer and over 100 leading smartphones</li> </ul>                                                                                                                                                                                                                                                                                                                                                                                                                                                                                        |\n",
      "|<ul> <li>Apply morning and evening&nbsp;</li> <li>Eyelash treatment&nbsp;</li> <li>Excellent occular tolerability</li> </ul>                                                                                                                                                                                                                                                                                                                                                                                                                                                                                                                                                                                                                                                                                                                                                                                                                                                                                                     |\n",
      "|<ul style=\"list-style-type:disc\"> <li>100% Brand New and High Quality</li> <li>Fashion Men Business Shoes</li> <li>PU Leather Lace Up Shoes</li> <li>Type: Formal Shoes</li> <li>Gender: Men</li> <li>Material: PU + Rubber Sole</li> <li>Color: Brown, Black</li> <li>Asian Size: 40, 41, 42, 43, 44, 45, 46</li> </ul> <br> <br>                                                                                                                                                                                                                                                                                                                                                                                                                                                                                                                                                                                                                                                                                               |\n",
      "|<div> <ul> <li>Gender Men's</li> <li>Movement Mechanical</li> <li>Movement type Automatic Self Wind</li> <li>Type Skeleton Watch</li> <li>Display Analog</li> <li>Case Material Alloy</li> <li>Dial Color Black</li> <li>Case Diameter 40mm</li> <li>Case Diameter Approx 41mm</li> <li>Case Thickness Approx 13mm</li> <li>Band Color Black</li> <li>Band Material Stailess Steel</li> <li>Band Length Approx (CM) 24</li> <li>Band Width Approx (CM) 2</li> <li>Net Weight(kg) 0.04</li> </ul> </div> <div><br></div>                                                                                                                                                                                                                                                                                                                                                                                                                                                                                                          |\n",
      "|<ul> <li>Print on all sides, glossy finish</li> <li>DIY Customize with your images, designs, and text&nbsp;</li> <li>Slim profile and lightweight;Impact resistant, durable hard plastic;Access to all ports, controls &amp; sensors&nbsp;</li> <li>Lay-flat bezel to protect your screen from directly contacting surfaces and keep you in a nice mood every day.</li> <li>It's the best valentine's day christmas birthday Hallowmas little gift for your girls boys women men friends or family,new fashionable cute lovely funny cool but useful and cheap. more excellent choices in Jianse</li> </ul>                                                                                                                                                                                                                                                                                                                                                                                                                      |\n",
      "|<ul> <li>Item Type:Phone Holder</li> <li>Size:85 x 12 x 8cm.</li> <li>Material: Alloy + PVC.</li> <li>Compatible Phone Model: 3-7 inches.</li> <li>Color:Light Blue.</li> </ul>                                                                                                                                                                                                                                                                                                                                                                                                                                                                                                                                                                                                                                                                                                                                                                                                                                                  |\n",
      "|<ul> <li>100% Genuine and Authentic products</li> <li>Free and Fast Shipping</li> <li>Buy with confidence!</li> </ul>                                                                                                                                                                                                                                                                                                                                                                                                                                                                                                                                                                                                                                                                                                                                                                                                                                                                                                            |\n",
      "+---------------------------------------------------------------------------------------------------------------------------------------------------------------------------------------------------------------------------------------------------------------------------------------------------------------------------------------------------------------------------------------------------------------------------------------------------------------------------------------------------------------------------------------------------------------------------------------------------------------------------------------------------------------------------------------------------------------------------------------------------------------------------------------------------------------------------------------------------------------------------------------------------------------------------------------------------------------------------------------------------------------------------------+\n",
      "only showing top 20 rows\n",
      "\n"
     ]
    }
   ],
   "source": [
    "train_feature.select(\"description\").show(truncate=False)"
   ]
  },
  {
   "cell_type": "code",
   "execution_count": 22,
   "metadata": {},
   "outputs": [
    {
     "data": {
      "text/plain": [
       "Row(html_extract=' 1. Color Temperature: 5400K 2. Ra: >90 3. Voltage: 220V/110V 4. Power: 40W×1=40W 5. Diameter: 235/315cm (inner/outer) 6. Weight: 640g  ')"
      ]
     },
     "execution_count": 22,
     "metadata": {},
     "output_type": "execute_result"
    }
   ],
   "source": [
    "train_feature.select(\"html_extract\").head(8)[6]"
   ]
  },
  {
   "cell_type": "code",
   "execution_count": 23,
   "metadata": {},
   "outputs": [
    {
     "data": {
      "text/plain": [
       "Row(description='<ul> <li>1. Color Temperature: 5400K</li> <li>2. Ra: &gt;90</li> <li>3. Voltage: 220V/110V</li> <li>4. Power: 40W×1=40W</li> <li>5. Diameter: 235/315cm (inner/outer)</li> <li>6. Weight: 640g</li> </ul> ')"
      ]
     },
     "execution_count": 23,
     "metadata": {},
     "output_type": "execute_result"
    }
   ],
   "source": [
    "train_feature.select(\"description\").head(8)[6]"
   ]
  },
  {
   "cell_type": "code",
   "execution_count": null,
   "metadata": {},
   "outputs": [],
   "source": []
  }
 ],
 "metadata": {
  "kernelspec": {
   "display_name": "Python 3",
   "language": "python",
   "name": "python3"
  },
  "language_info": {
   "codemirror_mode": {
    "name": "ipython",
    "version": 3
   },
   "file_extension": ".py",
   "mimetype": "text/x-python",
   "name": "python",
   "nbconvert_exporter": "python",
   "pygments_lexer": "ipython3",
   "version": "3.5.2"
  }
 },
 "nbformat": 4,
 "nbformat_minor": 2
}
